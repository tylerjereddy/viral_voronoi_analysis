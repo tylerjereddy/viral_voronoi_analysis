{
 "metadata": {
  "name": "",
  "signature": "sha256:f81c2b0df15345d65b4dfb2323c0a91722e37826721f0b258325da5070c43e60"
 },
 "nbformat": 3,
 "nbformat_minor": 0,
 "worksheets": [
  {
   "cells": [
    {
     "cell_type": "code",
     "collapsed": false,
     "input": [
      "%load_ext autoreload\n",
      "%autoreload 2\n",
      "import matplotlib\n",
      "import matplotlib.pyplot as plt\n",
      "%matplotlib inline\n",
      "import numpy\n",
      "import scipy\n",
      "from mpl_toolkits.mplot3d import Axes3D\n",
      "from mpl_toolkits.mplot3d.art3d import Poly3DCollection\n",
      "import math\n",
      "import MDAnalysis"
     ],
     "language": "python",
     "metadata": {},
     "outputs": [],
     "prompt_number": 1
    },
    {
     "cell_type": "markdown",
     "metadata": {},
     "source": [
      "So, I can load many of the standard Python libraries above, but there will almost certainly be some dependency problems to resolve on hpslu with respect to my spherical Voronoi code."
     ]
    },
    {
     "cell_type": "code",
     "collapsed": false,
     "input": [
      "import sys; sys.path.append('/sansom/sc2/bioc1009/github_projects/spherical_Voronoi/py_sphere_Voronoi')\n",
      "import voronoi_utility\n",
      "sys.path.append('/sansom/sc2/bioc1009/python_scripts/matplotlib_scripts')\n",
      "import multicore_vesicle_virion_analysis"
     ],
     "language": "python",
     "metadata": {},
     "outputs": [],
     "prompt_number": 5
    },
    {
     "cell_type": "markdown",
     "metadata": {},
     "source": [
      "By installing the Anaconda Python distribution in a local directory on hpslu I seem to have resolved the library issues."
     ]
    },
    {
     "cell_type": "code",
     "collapsed": false,
     "input": [
      "#produce a list of sim33 trajectory files:\n",
      "list_sim33_trajectories_compact_no_solvent = sorted(multicore_vesicle_virion_analysis.produce_list_trajectories('/sbcb/hfs0/bioc1009/postdoc_data/production_simulations/July2_2012_equil_vesicle_NO_Forss/','*no_solvent*xtc'),key= lambda file_string: int(file_string[99:101].replace('_',''))) #sort by file name part number\n",
      "list_sim33_trajectories_compact_no_solvent.extend(sorted(multicore_vesicle_virion_analysis.produce_list_trajectories('/sansom/n04/bioc1009/July2_2012_equil_vesicle_NO_Forss/','*no_solvent*xtc'),key= lambda file_string: int(file_string[-30:-28])))"
     ],
     "language": "python",
     "metadata": {},
     "outputs": [],
     "prompt_number": 7
    },
    {
     "cell_type": "code",
     "collapsed": false,
     "input": [
      "#it will likely take quite a while to load the sim33 Universe object because of the files still on hfs0:\n",
      "flu_vesicle_universe_object = MDAnalysis.Universe('/sansom/sc2/bioc1009/postdoc_work/improved_virion/vesicle_build_adjusted_June19_2012/compact_neutral_antifreeze_nosolvent.gro',list_sim33_trajectories_compact_no_solvent)"
     ],
     "language": "python",
     "metadata": {},
     "outputs": [],
     "prompt_number": 9
    },
    {
     "cell_type": "code",
     "collapsed": false,
     "input": [
      "flu_vesicle_trajectory = flu_vesicle_universe_object.trajectory"
     ],
     "language": "python",
     "metadata": {},
     "outputs": [],
     "prompt_number": 11
    },
    {
     "cell_type": "code",
     "collapsed": false,
     "input": [
      "flu_vesicle_trajectory.numframes"
     ],
     "language": "python",
     "metadata": {},
     "outputs": [
      {
       "metadata": {},
       "output_type": "pyout",
       "prompt_number": 13,
       "text": [
        "48956"
       ]
      }
     ],
     "prompt_number": 13
    },
    {
     "cell_type": "markdown",
     "metadata": {},
     "source": [
      "So, there are almost 50,000 frames, which is reasonably sensible for about 5 microseconds with 0.1 ns/ frame, assuming that either some of the initial equilibration data is not included or that I didn't quite go the full way to 5 microseconds. Just be sharp when analyzing the data."
     ]
    },
    {
     "cell_type": "code",
     "collapsed": false,
     "input": [],
     "language": "python",
     "metadata": {},
     "outputs": []
    }
   ],
   "metadata": {}
  }
 ]
}