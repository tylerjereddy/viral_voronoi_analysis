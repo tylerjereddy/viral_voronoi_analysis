{
 "metadata": {
  "name": "",
  "signature": "sha256:19bab68969725e043dc2abfeb0a9680f8aaacec0ac745a329cc0381991540f82"
 },
 "nbformat": 3,
 "nbformat_minor": 0,
 "worksheets": [
  {
   "cells": [
    {
     "cell_type": "code",
     "collapsed": false,
     "input": [
      "%load_ext autoreload\n",
      "%autoreload 2\n",
      "import matplotlib\n",
      "import matplotlib.pyplot as plt\n",
      "%matplotlib inline\n",
      "import numpy\n",
      "import scipy\n",
      "from mpl_toolkits.mplot3d import Axes3D\n",
      "from mpl_toolkits.mplot3d.art3d import Poly3DCollection\n",
      "import math\n",
      "import MDAnalysis"
     ],
     "language": "python",
     "metadata": {},
     "outputs": [],
     "prompt_number": 1
    },
    {
     "cell_type": "markdown",
     "metadata": {},
     "source": [
      "So, I can load many of the standard Python libraries above, but there will almost certainly be some dependency problems to resolve on hpslu with respect to my spherical Voronoi code."
     ]
    },
    {
     "cell_type": "code",
     "collapsed": false,
     "input": [
      "import sys; sys.path.append('/sansom/sc2/bioc1009/github_projects/spherical_Voronoi/py_sphere_Voronoi')\n",
      "import voronoi_utility\n",
      "sys.path.append('/sansom/sc2/bioc1009/python_scripts/matplotlib_scripts')\n",
      "import multicore_vesicle_virion_analysis"
     ],
     "language": "python",
     "metadata": {},
     "outputs": [],
     "prompt_number": 3
    },
    {
     "cell_type": "markdown",
     "metadata": {},
     "source": [
      "By installing the Anaconda Python distribution in a local directory on hpslu I seem to have resolved the library issues."
     ]
    },
    {
     "cell_type": "code",
     "collapsed": false,
     "input": [
      "#produce a list of sim33 trajectory files:\n",
      "list_sim33_trajectories_compact_no_solvent = sorted(multicore_vesicle_virion_analysis.produce_list_trajectories('/sbcb/hfs0/bioc1009/postdoc_data/production_simulations/July2_2012_equil_vesicle_NO_Forss/','*no_solvent*xtc'),key= lambda file_string: int(file_string[99:101].replace('_',''))) #sort by file name part number\n",
      "list_sim33_trajectories_compact_no_solvent.extend(sorted(multicore_vesicle_virion_analysis.produce_list_trajectories('/sansom/n04/bioc1009/July2_2012_equil_vesicle_NO_Forss/','*no_solvent*xtc'),key= lambda file_string: int(file_string[-30:-28])))"
     ],
     "language": "python",
     "metadata": {},
     "outputs": [],
     "prompt_number": 4
    },
    {
     "cell_type": "code",
     "collapsed": false,
     "input": [
      "#it will likely take quite a while to load the sim33 Universe object because of the files still on hfs0:\n",
      "flu_vesicle_universe_object = MDAnalysis.Universe('/sansom/sc2/bioc1009/postdoc_work/improved_virion/vesicle_build_adjusted_June19_2012/compact_neutral_antifreeze_nosolvent.gro',list_sim33_trajectories_compact_no_solvent)"
     ],
     "language": "python",
     "metadata": {},
     "outputs": [],
     "prompt_number": 5
    },
    {
     "cell_type": "code",
     "collapsed": false,
     "input": [
      "flu_vesicle_trajectory = flu_vesicle_universe_object.trajectory"
     ],
     "language": "python",
     "metadata": {},
     "outputs": [],
     "prompt_number": 6
    },
    {
     "cell_type": "code",
     "collapsed": false,
     "input": [
      "flu_vesicle_trajectory.numframes"
     ],
     "language": "python",
     "metadata": {},
     "outputs": [
      {
       "metadata": {},
       "output_type": "pyout",
       "prompt_number": 7,
       "text": [
        "48956"
       ]
      }
     ],
     "prompt_number": 7
    },
    {
     "cell_type": "markdown",
     "metadata": {},
     "source": [
      "So, there are almost 50,000 frames, which is reasonably sensible for about 5 microseconds with 0.1 ns/ frame, assuming that either some of the initial equilibration data is not included or that I didn't quite go the full way to 5 microseconds. Just be sharp when analyzing the data."
     ]
    },
    {
     "cell_type": "code",
     "collapsed": false,
     "input": [
      "#start doing some test analysis on the flu vesicle trajectory (currently using PPCH PO4 particles only)\n",
      "PPCH_PO4_selection = flu_vesicle_universe_object.selectAtoms('resname PPCH and name PO4')\n",
      "CHOL_ROH_selection = flu_vesicle_universe_object.selectAtoms('resname CHOL and name ROH')\n",
      "remaining_headgroup_selection = flu_vesicle_universe_object.selectAtoms('(resname DOPE or resname DOPX or resname POPS) and name PO4')\n",
      "total_PPCH_PO4_particles = PPCH_PO4_selection.numberOfAtoms()\n",
      "total_CHOL_ROH_particles = CHOL_ROH_selection.numberOfAtoms()\n",
      "total_remaining_particles = remaining_headgroup_selection.numberOfAtoms()\n",
      "threshold = 285 #28.5 nm threshold for outer leaflet PPCH PO4 (currently testing)\n",
      "all_lipid_selection = flu_vesicle_universe_object.selectAtoms('resname PPCH or resname CHOL or resname POPS or resname DOPX or resname DOPE')\n",
      "\n",
      "list_min_PPCH_PO4_distances = []\n",
      "list_max_PPCH_PO4_distances = []\n",
      "list_average_PPCH_PO4_distances = []\n",
      "list_std_dev_PPCH_PO4_distances = []\n",
      "list_frame_numbers = []\n",
      "list_PPCH_percent_above_treshold = []\n",
      "\n",
      "list_min_CHOL_ROH_distances = []\n",
      "list_max_CHOL_ROH_distances = []\n",
      "list_average_CHOL_ROH_distances = []\n",
      "list_std_dev_CHOL_ROH_distances = []\n",
      "list_CHOL_ROH_midpoint_distances = []\n",
      "list_CHOL_ROH_percent_above_threshold = []\n",
      "list_CHOL_ROH_percent_below_threshold = []\n",
      "\n",
      "list_min_remaining_headgroup_distances = []\n",
      "list_max_remaining_headgroup_distances = []\n",
      "list_average_remaining_headgroup_distances = []\n",
      "list_std_dev_remaining_headgroup_distances = []\n",
      "list_remaining_headgroup_midpoint_distances = []\n",
      "list_remaining_headgroup_percent_above_threshold = []\n",
      "list_remaining_headgroup_percent_below_threshold = []\n",
      "\n",
      "for ts in flu_vesicle_trajectory[::100]: #every 100th frame (roughly every 10 ns)\n",
      "    PPCH_PO4_coordinates = PPCH_PO4_selection.coordinates()\n",
      "    CHOL_ROH_coordinates = CHOL_ROH_selection.coordinates()\n",
      "    remaining_headgroup_coordinates = remaining_headgroup_selection.coordinates()\n",
      "    all_lipid_centroid = all_lipid_selection.centroid()\n",
      "    PPCH_PO4_coordinates -= all_lipid_centroid #place the centroid of the vesicle at the origin\n",
      "    CHOL_ROH_coordinates -= all_lipid_centroid #place the centroid of the vesicle at the origin\n",
      "    remaining_headgroup_coordinates -= all_lipid_centroid\n",
      "    spherical_polar_PPCH_PO4_coordinates = voronoi_utility.convert_cartesian_array_to_spherical_array(PPCH_PO4_coordinates)\n",
      "    spherical_polar_CHOL_ROH_coordinates = voronoi_utility.convert_cartesian_array_to_spherical_array(CHOL_ROH_coordinates)\n",
      "    spherical_polar_remaining_coordinates = voronoi_utility.convert_cartesian_array_to_spherical_array(remaining_headgroup_coordinates)\n",
      "    #determine the minimum and maximum and average radial distance so I get an idea of leaflet distribution for PPCH PO4\n",
      "    minimum_PPCH_PO4_radial_distance = spherical_polar_PPCH_PO4_coordinates[...,0].min()\n",
      "    maximum_PPCH_PO4_radial_distance = spherical_polar_PPCH_PO4_coordinates[...,0].max()\n",
      "    average_PPCH_PO4_radial_distance = numpy.average(spherical_polar_PPCH_PO4_coordinates[...,0])\n",
      "    std_dev_PPCH_PO4_radial_distance = numpy.std(spherical_polar_PPCH_PO4_coordinates[...,0])\n",
      "    number_of_PPCH_PO4_radial_distances_above_threshold = (spherical_polar_PPCH_PO4_coordinates[...,0] > threshold).sum()\n",
      "    percent_PPCH_PO4_above_treshold = float(number_of_PPCH_PO4_radial_distances_above_threshold) / float(total_PPCH_PO4_particles) * 100.\n",
      "    list_PPCH_percent_above_treshold.append(percent_PPCH_PO4_above_treshold)\n",
      "    list_min_PPCH_PO4_distances.append(minimum_PPCH_PO4_radial_distance)\n",
      "    list_max_PPCH_PO4_distances.append(maximum_PPCH_PO4_radial_distance)\n",
      "    list_average_PPCH_PO4_distances.append(average_PPCH_PO4_radial_distance)\n",
      "    list_std_dev_PPCH_PO4_distances.append(std_dev_PPCH_PO4_radial_distance)\n",
      "    #similarly for CHOL ROH\n",
      "    minimum_CHOL_ROH_radial_distance = spherical_polar_CHOL_ROH_coordinates[...,0].min()\n",
      "    #maximum_CHOL_ROH_radial_distance = spherical_polar_CHOL_ROH_coordinates[...,0].max()\n",
      "    maximum_CHOL_ROH_radial_distance = numpy.sort(spherical_polar_CHOL_ROH_coordinates[...,0])[-2] #it seems we have a CHOL floater for part of the simulation so avoid that one\n",
      "    midpoint_CHOL_ROH_radial_distance = numpy.average(numpy.array([minimum_CHOL_ROH_radial_distance,maximum_CHOL_ROH_radial_distance])) #unbiased midpoint for CHOL for upper / lower leaflet cutoff\n",
      "    average_CHOL_ROH_radial_distance = numpy.average(spherical_polar_CHOL_ROH_coordinates[...,0])\n",
      "    std_dev_CHOL_ROH_radial_distance = numpy.std(spherical_polar_CHOL_ROH_coordinates[...,0])\n",
      "    list_min_CHOL_ROH_distances.append(minimum_CHOL_ROH_radial_distance)\n",
      "    list_max_CHOL_ROH_distances.append(maximum_CHOL_ROH_radial_distance)\n",
      "    list_average_CHOL_ROH_distances.append(average_CHOL_ROH_radial_distance)\n",
      "    list_std_dev_CHOL_ROH_distances.append(std_dev_CHOL_ROH_radial_distance)\n",
      "    list_CHOL_ROH_midpoint_distances.append(midpoint_CHOL_ROH_radial_distance)\n",
      "    #for CHOL the threshold will be the unbiased midpoint\n",
      "    number_of_CHOL_ROH_radial_distances_above_threshold = (spherical_polar_CHOL_ROH_coordinates[...,0] > midpoint_CHOL_ROH_radial_distance).sum()\n",
      "    number_of_CHOL_ROH_radial_distances_below_threshold = (spherical_polar_CHOL_ROH_coordinates[...,0] < midpoint_CHOL_ROH_radial_distance).sum()\n",
      "    percent_CHOL_ROH_above_treshold = float(number_of_CHOL_ROH_radial_distances_above_threshold) / float(total_CHOL_ROH_particles) * 100.\n",
      "    percent_CHOL_ROH_below_treshold = float(number_of_CHOL_ROH_radial_distances_below_threshold) / float(total_CHOL_ROH_particles) * 100.\n",
      "    list_CHOL_ROH_percent_above_threshold.append(percent_CHOL_ROH_above_treshold)\n",
      "    list_CHOL_ROH_percent_below_threshold.append(percent_CHOL_ROH_below_treshold)\n",
      "    #similarly for the remaining headgroup particles (for DOPE/X and POPS)\n",
      "    minimum_remaining_headgroup_radial_distance = spherical_polar_remaining_coordinates[...,0].min()\n",
      "    maximum_remaining_headgroup_radial_distance = numpy.sort(spherical_polar_remaining_coordinates[...,0])[-2] #dealing with floater(s)\n",
      "    midpoint_remaining_headgroup_radial_distance = numpy.average(numpy.array([minimum_remaining_headgroup_radial_distance,maximum_remaining_headgroup_radial_distance])) #unbiased midpoint for upper / lower leaflet cutoff\n",
      "    average_remaining_headgroup_radial_distance = numpy.average(spherical_polar_remaining_coordinates[...,0])\n",
      "    std_dev_remaining_headgroup_radial_distance = numpy.std(spherical_polar_remaining_coordinates[...,0])\n",
      "    number_of_remaining_headgroup_radial_distances_above_threshold = (spherical_polar_remaining_coordinates[...,0] > midpoint_remaining_headgroup_radial_distance).sum()\n",
      "    number_of_remaining_headgroup_radial_distances_below_threshold = (spherical_polar_remaining_coordinates[...,0] < midpoint_remaining_headgroup_radial_distance).sum()\n",
      "    percent_remaining_headgroup_above_threshold = float(number_of_remaining_headgroup_radial_distances_above_threshold) / float(total_remaining_particles) * 100.\n",
      "    percent_remaining_headgroup_below_threshold = float(number_of_remaining_headgroup_radial_distances_below_threshold) / float(total_remaining_particles) * 100.\n",
      "    list_min_remaining_headgroup_distances.append(minimum_remaining_headgroup_radial_distance)\n",
      "    list_max_remaining_headgroup_distances.append(maximum_remaining_headgroup_radial_distance)\n",
      "    list_average_remaining_headgroup_distances.append(average_remaining_headgroup_radial_distance)\n",
      "    list_std_dev_remaining_headgroup_distances.append(std_dev_remaining_headgroup_radial_distance)\n",
      "    list_remaining_headgroup_midpoint_distances.append(midpoint_remaining_headgroup_radial_distance)\n",
      "    list_remaining_headgroup_percent_above_threshold.append(percent_remaining_headgroup_above_threshold)\n",
      "    list_remaining_headgroup_percent_below_threshold.append(percent_remaining_headgroup_below_threshold)\n",
      "    \n",
      "    \n",
      "    frame_number = ts.frame\n",
      "    list_frame_numbers.append(frame_number)\n",
      "    print 'frame:', frame_number\n",
      "    \n",
      "    "
     ],
     "language": "python",
     "metadata": {},
     "outputs": [
      {
       "output_type": "stream",
       "stream": "stdout",
       "text": [
        "frame: 1\n",
        "frame:"
       ]
      },
      {
       "output_type": "stream",
       "stream": "stdout",
       "text": [
        " 101\n",
        "frame:"
       ]
      },
      {
       "output_type": "stream",
       "stream": "stdout",
       "text": [
        " 201\n",
        "frame:"
       ]
      },
      {
       "output_type": "stream",
       "stream": "stdout",
       "text": [
        " 301\n",
        "frame:"
       ]
      },
      {
       "output_type": "stream",
       "stream": "stdout",
       "text": [
        " 401\n",
        "frame:"
       ]
      },
      {
       "output_type": "stream",
       "stream": "stdout",
       "text": [
        " 501\n",
        "frame:"
       ]
      },
      {
       "output_type": "stream",
       "stream": "stdout",
       "text": [
        " 601\n",
        "frame:"
       ]
      },
      {
       "output_type": "stream",
       "stream": "stdout",
       "text": [
        " 701\n",
        "frame:"
       ]
      },
      {
       "output_type": "stream",
       "stream": "stdout",
       "text": [
        " 801\n",
        "frame:"
       ]
      },
      {
       "output_type": "stream",
       "stream": "stdout",
       "text": [
        " 901\n",
        "frame:"
       ]
      },
      {
       "output_type": "stream",
       "stream": "stdout",
       "text": [
        " 1001\n",
        "frame:"
       ]
      },
      {
       "output_type": "stream",
       "stream": "stdout",
       "text": [
        " 1101\n",
        "frame:"
       ]
      },
      {
       "output_type": "stream",
       "stream": "stdout",
       "text": [
        " 1201\n",
        "frame:"
       ]
      },
      {
       "output_type": "stream",
       "stream": "stdout",
       "text": [
        " 1301\n",
        "frame:"
       ]
      },
      {
       "output_type": "stream",
       "stream": "stdout",
       "text": [
        " 1401\n",
        "frame:"
       ]
      },
      {
       "output_type": "stream",
       "stream": "stdout",
       "text": [
        " 1501\n",
        "frame:"
       ]
      },
      {
       "output_type": "stream",
       "stream": "stdout",
       "text": [
        " 1601\n",
        "frame:"
       ]
      },
      {
       "output_type": "stream",
       "stream": "stdout",
       "text": [
        " 1701\n",
        "frame:"
       ]
      },
      {
       "output_type": "stream",
       "stream": "stdout",
       "text": [
        " 1801\n",
        "frame:"
       ]
      },
      {
       "output_type": "stream",
       "stream": "stdout",
       "text": [
        " 1901\n",
        "frame:"
       ]
      },
      {
       "output_type": "stream",
       "stream": "stdout",
       "text": [
        " 2001\n",
        "frame:"
       ]
      },
      {
       "output_type": "stream",
       "stream": "stdout",
       "text": [
        " 2101\n",
        "frame:"
       ]
      },
      {
       "output_type": "stream",
       "stream": "stdout",
       "text": [
        " 2201\n",
        "frame:"
       ]
      },
      {
       "output_type": "stream",
       "stream": "stdout",
       "text": [
        " 2301\n",
        "frame:"
       ]
      },
      {
       "output_type": "stream",
       "stream": "stdout",
       "text": [
        " 2401\n",
        "frame:"
       ]
      },
      {
       "output_type": "stream",
       "stream": "stdout",
       "text": [
        " 2501\n",
        "frame:"
       ]
      },
      {
       "output_type": "stream",
       "stream": "stdout",
       "text": [
        " 2601\n",
        "frame:"
       ]
      },
      {
       "output_type": "stream",
       "stream": "stdout",
       "text": [
        " 2701\n",
        "frame:"
       ]
      },
      {
       "output_type": "stream",
       "stream": "stdout",
       "text": [
        " 2801\n",
        "frame:"
       ]
      },
      {
       "output_type": "stream",
       "stream": "stdout",
       "text": [
        " 2901\n",
        "frame:"
       ]
      },
      {
       "output_type": "stream",
       "stream": "stdout",
       "text": [
        " 3001\n",
        "frame:"
       ]
      },
      {
       "output_type": "stream",
       "stream": "stdout",
       "text": [
        " 3101\n",
        "frame:"
       ]
      },
      {
       "output_type": "stream",
       "stream": "stdout",
       "text": [
        " 3201\n",
        "frame:"
       ]
      },
      {
       "output_type": "stream",
       "stream": "stdout",
       "text": [
        " 3301\n",
        "frame:"
       ]
      },
      {
       "output_type": "stream",
       "stream": "stdout",
       "text": [
        " 3401\n",
        "frame:"
       ]
      },
      {
       "output_type": "stream",
       "stream": "stdout",
       "text": [
        " 3501\n",
        "frame:"
       ]
      },
      {
       "output_type": "stream",
       "stream": "stdout",
       "text": [
        " 3601\n",
        "frame:"
       ]
      },
      {
       "output_type": "stream",
       "stream": "stdout",
       "text": [
        " 3701\n",
        "frame:"
       ]
      },
      {
       "output_type": "stream",
       "stream": "stdout",
       "text": [
        " 3801\n",
        "frame:"
       ]
      },
      {
       "output_type": "stream",
       "stream": "stdout",
       "text": [
        " 3901\n",
        "frame:"
       ]
      },
      {
       "output_type": "stream",
       "stream": "stdout",
       "text": [
        " 4001\n",
        "frame:"
       ]
      },
      {
       "output_type": "stream",
       "stream": "stdout",
       "text": [
        " 4101\n",
        "frame:"
       ]
      },
      {
       "output_type": "stream",
       "stream": "stdout",
       "text": [
        " 4201\n",
        "frame:"
       ]
      },
      {
       "output_type": "stream",
       "stream": "stdout",
       "text": [
        " 4301\n",
        "frame:"
       ]
      },
      {
       "output_type": "stream",
       "stream": "stdout",
       "text": [
        " 4401\n",
        "frame:"
       ]
      },
      {
       "output_type": "stream",
       "stream": "stdout",
       "text": [
        " 4501\n",
        "frame:"
       ]
      },
      {
       "output_type": "stream",
       "stream": "stdout",
       "text": [
        " 4601\n",
        "frame:"
       ]
      },
      {
       "output_type": "stream",
       "stream": "stdout",
       "text": [
        " 4701\n",
        "frame:"
       ]
      },
      {
       "output_type": "stream",
       "stream": "stdout",
       "text": [
        " 4801\n",
        "frame:"
       ]
      },
      {
       "output_type": "stream",
       "stream": "stdout",
       "text": [
        " 4901\n",
        "frame:"
       ]
      },
      {
       "output_type": "stream",
       "stream": "stdout",
       "text": [
        " 5001\n",
        "frame:"
       ]
      },
      {
       "output_type": "stream",
       "stream": "stdout",
       "text": [
        " 5101\n",
        "frame:"
       ]
      },
      {
       "output_type": "stream",
       "stream": "stdout",
       "text": [
        " 5201\n",
        "frame:"
       ]
      },
      {
       "output_type": "stream",
       "stream": "stdout",
       "text": [
        " 5301\n",
        "frame:"
       ]
      },
      {
       "output_type": "stream",
       "stream": "stdout",
       "text": [
        " 5401\n",
        "frame:"
       ]
      },
      {
       "output_type": "stream",
       "stream": "stdout",
       "text": [
        " 5501\n",
        "frame:"
       ]
      },
      {
       "output_type": "stream",
       "stream": "stdout",
       "text": [
        " 5601\n",
        "frame:"
       ]
      },
      {
       "output_type": "stream",
       "stream": "stdout",
       "text": [
        " 5701\n",
        "frame:"
       ]
      },
      {
       "output_type": "stream",
       "stream": "stdout",
       "text": [
        " 5801\n",
        "frame:"
       ]
      },
      {
       "output_type": "stream",
       "stream": "stdout",
       "text": [
        " 5901\n",
        "frame:"
       ]
      },
      {
       "output_type": "stream",
       "stream": "stdout",
       "text": [
        " 6001\n",
        "frame:"
       ]
      },
      {
       "output_type": "stream",
       "stream": "stdout",
       "text": [
        " 6101\n",
        "frame:"
       ]
      },
      {
       "output_type": "stream",
       "stream": "stdout",
       "text": [
        " 6201\n",
        "frame:"
       ]
      },
      {
       "output_type": "stream",
       "stream": "stdout",
       "text": [
        " 6301\n",
        "frame:"
       ]
      },
      {
       "output_type": "stream",
       "stream": "stdout",
       "text": [
        " 6401\n",
        "frame:"
       ]
      },
      {
       "output_type": "stream",
       "stream": "stdout",
       "text": [
        " 6501\n",
        "frame:"
       ]
      },
      {
       "output_type": "stream",
       "stream": "stdout",
       "text": [
        " 6601\n",
        "frame:"
       ]
      },
      {
       "output_type": "stream",
       "stream": "stdout",
       "text": [
        " 6701\n",
        "frame:"
       ]
      },
      {
       "output_type": "stream",
       "stream": "stdout",
       "text": [
        " 6801\n",
        "frame:"
       ]
      },
      {
       "output_type": "stream",
       "stream": "stdout",
       "text": [
        " 6901\n",
        "frame:"
       ]
      },
      {
       "output_type": "stream",
       "stream": "stdout",
       "text": [
        " 7001\n",
        "frame:"
       ]
      },
      {
       "output_type": "stream",
       "stream": "stdout",
       "text": [
        " 7101\n",
        "frame:"
       ]
      },
      {
       "output_type": "stream",
       "stream": "stdout",
       "text": [
        " 7201\n",
        "frame:"
       ]
      },
      {
       "output_type": "stream",
       "stream": "stdout",
       "text": [
        " 7301\n",
        "frame:"
       ]
      },
      {
       "output_type": "stream",
       "stream": "stdout",
       "text": [
        " 7401\n",
        "frame:"
       ]
      },
      {
       "output_type": "stream",
       "stream": "stdout",
       "text": [
        " 7501\n",
        "frame:"
       ]
      },
      {
       "output_type": "stream",
       "stream": "stdout",
       "text": [
        " 7601\n",
        "frame:"
       ]
      },
      {
       "output_type": "stream",
       "stream": "stdout",
       "text": [
        " 7701\n",
        "frame:"
       ]
      },
      {
       "output_type": "stream",
       "stream": "stdout",
       "text": [
        " 7801\n",
        "frame:"
       ]
      },
      {
       "output_type": "stream",
       "stream": "stdout",
       "text": [
        " 7901\n",
        "frame:"
       ]
      },
      {
       "output_type": "stream",
       "stream": "stdout",
       "text": [
        " 8001\n",
        "frame:"
       ]
      },
      {
       "output_type": "stream",
       "stream": "stdout",
       "text": [
        " 8101\n",
        "frame:"
       ]
      },
      {
       "output_type": "stream",
       "stream": "stdout",
       "text": [
        " 8201\n",
        "frame:"
       ]
      },
      {
       "output_type": "stream",
       "stream": "stdout",
       "text": [
        " 8301\n",
        "frame:"
       ]
      },
      {
       "output_type": "stream",
       "stream": "stdout",
       "text": [
        " 8401\n",
        "frame:"
       ]
      },
      {
       "output_type": "stream",
       "stream": "stdout",
       "text": [
        " 8501\n",
        "frame:"
       ]
      },
      {
       "output_type": "stream",
       "stream": "stdout",
       "text": [
        " 8601\n",
        "frame:"
       ]
      },
      {
       "output_type": "stream",
       "stream": "stdout",
       "text": [
        " 8701\n",
        "frame:"
       ]
      },
      {
       "output_type": "stream",
       "stream": "stdout",
       "text": [
        " 8801\n",
        "frame:"
       ]
      },
      {
       "output_type": "stream",
       "stream": "stdout",
       "text": [
        " 8901\n",
        "frame:"
       ]
      },
      {
       "output_type": "stream",
       "stream": "stdout",
       "text": [
        " 9001\n",
        "frame:"
       ]
      },
      {
       "output_type": "stream",
       "stream": "stdout",
       "text": [
        " 9101\n",
        "frame:"
       ]
      },
      {
       "output_type": "stream",
       "stream": "stdout",
       "text": [
        " 9201\n",
        "frame:"
       ]
      },
      {
       "output_type": "stream",
       "stream": "stdout",
       "text": [
        " 9301\n",
        "frame:"
       ]
      },
      {
       "output_type": "stream",
       "stream": "stdout",
       "text": [
        " 9401\n",
        "frame:"
       ]
      },
      {
       "output_type": "stream",
       "stream": "stdout",
       "text": [
        " 9501\n",
        "frame:"
       ]
      },
      {
       "output_type": "stream",
       "stream": "stdout",
       "text": [
        " 9601\n",
        "frame:"
       ]
      },
      {
       "output_type": "stream",
       "stream": "stdout",
       "text": [
        " 9701\n",
        "frame:"
       ]
      },
      {
       "output_type": "stream",
       "stream": "stdout",
       "text": [
        " 9801\n",
        "frame:"
       ]
      },
      {
       "output_type": "stream",
       "stream": "stdout",
       "text": [
        " 9901\n",
        "frame:"
       ]
      },
      {
       "output_type": "stream",
       "stream": "stdout",
       "text": [
        " 10001\n",
        "frame:"
       ]
      },
      {
       "output_type": "stream",
       "stream": "stdout",
       "text": [
        " 10101\n",
        "frame:"
       ]
      },
      {
       "output_type": "stream",
       "stream": "stdout",
       "text": [
        " 10201\n",
        "frame:"
       ]
      },
      {
       "output_type": "stream",
       "stream": "stdout",
       "text": [
        " 10301\n",
        "frame:"
       ]
      },
      {
       "output_type": "stream",
       "stream": "stdout",
       "text": [
        " 10401\n",
        "frame:"
       ]
      },
      {
       "output_type": "stream",
       "stream": "stdout",
       "text": [
        " 10501\n",
        "frame:"
       ]
      },
      {
       "output_type": "stream",
       "stream": "stdout",
       "text": [
        " 10601\n",
        "frame:"
       ]
      },
      {
       "output_type": "stream",
       "stream": "stdout",
       "text": [
        " 10701\n",
        "frame:"
       ]
      },
      {
       "output_type": "stream",
       "stream": "stdout",
       "text": [
        " 10801\n",
        "frame:"
       ]
      },
      {
       "output_type": "stream",
       "stream": "stdout",
       "text": [
        " 10901\n",
        "frame:"
       ]
      },
      {
       "output_type": "stream",
       "stream": "stdout",
       "text": [
        " 11001\n",
        "frame:"
       ]
      },
      {
       "output_type": "stream",
       "stream": "stdout",
       "text": [
        " 11101\n",
        "frame:"
       ]
      },
      {
       "output_type": "stream",
       "stream": "stdout",
       "text": [
        " 11201\n",
        "frame:"
       ]
      },
      {
       "output_type": "stream",
       "stream": "stdout",
       "text": [
        " 11301\n",
        "frame:"
       ]
      },
      {
       "output_type": "stream",
       "stream": "stdout",
       "text": [
        " 11401\n",
        "frame:"
       ]
      },
      {
       "output_type": "stream",
       "stream": "stdout",
       "text": [
        " 11501\n",
        "frame:"
       ]
      },
      {
       "output_type": "stream",
       "stream": "stdout",
       "text": [
        " 11601\n",
        "frame:"
       ]
      },
      {
       "output_type": "stream",
       "stream": "stdout",
       "text": [
        " 11701\n",
        "frame:"
       ]
      },
      {
       "output_type": "stream",
       "stream": "stdout",
       "text": [
        " 11801\n",
        "frame:"
       ]
      },
      {
       "output_type": "stream",
       "stream": "stdout",
       "text": [
        " 11901\n",
        "frame:"
       ]
      },
      {
       "output_type": "stream",
       "stream": "stdout",
       "text": [
        " 12001\n",
        "frame:"
       ]
      },
      {
       "output_type": "stream",
       "stream": "stdout",
       "text": [
        " 12101\n",
        "frame:"
       ]
      },
      {
       "output_type": "stream",
       "stream": "stdout",
       "text": [
        " 12201\n",
        "frame:"
       ]
      },
      {
       "output_type": "stream",
       "stream": "stdout",
       "text": [
        " 12301\n",
        "frame:"
       ]
      },
      {
       "output_type": "stream",
       "stream": "stdout",
       "text": [
        " 12401\n",
        "frame:"
       ]
      },
      {
       "output_type": "stream",
       "stream": "stdout",
       "text": [
        " 12501\n",
        "frame:"
       ]
      },
      {
       "output_type": "stream",
       "stream": "stdout",
       "text": [
        " 12601\n",
        "frame:"
       ]
      },
      {
       "output_type": "stream",
       "stream": "stdout",
       "text": [
        " 12701\n",
        "frame:"
       ]
      },
      {
       "output_type": "stream",
       "stream": "stdout",
       "text": [
        " 12801\n",
        "frame:"
       ]
      },
      {
       "output_type": "stream",
       "stream": "stdout",
       "text": [
        " 12901\n",
        "frame:"
       ]
      },
      {
       "output_type": "stream",
       "stream": "stdout",
       "text": [
        " 13001\n",
        "frame:"
       ]
      },
      {
       "output_type": "stream",
       "stream": "stdout",
       "text": [
        " 13101\n",
        "frame:"
       ]
      },
      {
       "output_type": "stream",
       "stream": "stdout",
       "text": [
        " 13201\n",
        "frame:"
       ]
      },
      {
       "output_type": "stream",
       "stream": "stdout",
       "text": [
        " 13301\n",
        "frame:"
       ]
      },
      {
       "output_type": "stream",
       "stream": "stdout",
       "text": [
        " 13401\n",
        "frame:"
       ]
      },
      {
       "output_type": "stream",
       "stream": "stdout",
       "text": [
        " 13501\n",
        "frame:"
       ]
      },
      {
       "output_type": "stream",
       "stream": "stdout",
       "text": [
        " 13601\n",
        "frame:"
       ]
      },
      {
       "output_type": "stream",
       "stream": "stdout",
       "text": [
        " 13701\n",
        "frame:"
       ]
      },
      {
       "output_type": "stream",
       "stream": "stdout",
       "text": [
        " 13801\n",
        "frame:"
       ]
      },
      {
       "output_type": "stream",
       "stream": "stdout",
       "text": [
        " 13901\n",
        "frame:"
       ]
      },
      {
       "output_type": "stream",
       "stream": "stdout",
       "text": [
        " 14001\n",
        "frame:"
       ]
      },
      {
       "output_type": "stream",
       "stream": "stdout",
       "text": [
        " 14101\n",
        "frame:"
       ]
      },
      {
       "output_type": "stream",
       "stream": "stdout",
       "text": [
        " 14201\n",
        "frame:"
       ]
      },
      {
       "output_type": "stream",
       "stream": "stdout",
       "text": [
        " 14301\n",
        "frame:"
       ]
      },
      {
       "output_type": "stream",
       "stream": "stdout",
       "text": [
        " 14401\n",
        "frame:"
       ]
      },
      {
       "output_type": "stream",
       "stream": "stdout",
       "text": [
        " 14501\n",
        "frame:"
       ]
      },
      {
       "output_type": "stream",
       "stream": "stdout",
       "text": [
        " 14601\n",
        "frame:"
       ]
      },
      {
       "output_type": "stream",
       "stream": "stdout",
       "text": [
        " 14701\n",
        "frame:"
       ]
      },
      {
       "output_type": "stream",
       "stream": "stdout",
       "text": [
        " 14801\n",
        "frame:"
       ]
      },
      {
       "output_type": "stream",
       "stream": "stdout",
       "text": [
        " 14901\n",
        "frame:"
       ]
      },
      {
       "output_type": "stream",
       "stream": "stdout",
       "text": [
        " 15001\n",
        "frame:"
       ]
      },
      {
       "output_type": "stream",
       "stream": "stdout",
       "text": [
        " 15101\n",
        "frame:"
       ]
      },
      {
       "output_type": "stream",
       "stream": "stdout",
       "text": [
        " 15201\n",
        "frame:"
       ]
      },
      {
       "output_type": "stream",
       "stream": "stdout",
       "text": [
        " 15301\n",
        "frame:"
       ]
      },
      {
       "output_type": "stream",
       "stream": "stdout",
       "text": [
        " 15401\n",
        "frame:"
       ]
      },
      {
       "output_type": "stream",
       "stream": "stdout",
       "text": [
        " 15501\n",
        "frame:"
       ]
      },
      {
       "output_type": "stream",
       "stream": "stdout",
       "text": [
        " 15601\n",
        "frame:"
       ]
      },
      {
       "output_type": "stream",
       "stream": "stdout",
       "text": [
        " 15701\n",
        "frame:"
       ]
      },
      {
       "output_type": "stream",
       "stream": "stdout",
       "text": [
        " 15801\n",
        "frame:"
       ]
      },
      {
       "output_type": "stream",
       "stream": "stdout",
       "text": [
        " 15901\n",
        "frame:"
       ]
      },
      {
       "output_type": "stream",
       "stream": "stdout",
       "text": [
        " 16001\n",
        "frame:"
       ]
      },
      {
       "output_type": "stream",
       "stream": "stdout",
       "text": [
        " 16101\n",
        "frame:"
       ]
      },
      {
       "output_type": "stream",
       "stream": "stdout",
       "text": [
        " 16201\n",
        "frame:"
       ]
      },
      {
       "output_type": "stream",
       "stream": "stdout",
       "text": [
        " 16301\n",
        "frame:"
       ]
      },
      {
       "output_type": "stream",
       "stream": "stdout",
       "text": [
        " 16401\n",
        "frame:"
       ]
      },
      {
       "output_type": "stream",
       "stream": "stdout",
       "text": [
        " 16501\n",
        "frame:"
       ]
      },
      {
       "output_type": "stream",
       "stream": "stdout",
       "text": [
        " 16601\n",
        "frame:"
       ]
      },
      {
       "output_type": "stream",
       "stream": "stdout",
       "text": [
        " 16701\n",
        "frame:"
       ]
      },
      {
       "output_type": "stream",
       "stream": "stdout",
       "text": [
        " 16801\n",
        "frame:"
       ]
      },
      {
       "output_type": "stream",
       "stream": "stdout",
       "text": [
        " 16901\n",
        "frame:"
       ]
      },
      {
       "output_type": "stream",
       "stream": "stdout",
       "text": [
        " 17001\n",
        "frame:"
       ]
      },
      {
       "output_type": "stream",
       "stream": "stdout",
       "text": [
        " 17101\n",
        "frame:"
       ]
      },
      {
       "output_type": "stream",
       "stream": "stdout",
       "text": [
        " 17201\n",
        "frame:"
       ]
      },
      {
       "output_type": "stream",
       "stream": "stdout",
       "text": [
        " 17301\n",
        "frame:"
       ]
      },
      {
       "output_type": "stream",
       "stream": "stdout",
       "text": [
        " 17401\n",
        "frame:"
       ]
      },
      {
       "output_type": "stream",
       "stream": "stdout",
       "text": [
        " 17501\n",
        "frame:"
       ]
      },
      {
       "output_type": "stream",
       "stream": "stdout",
       "text": [
        " 17601\n",
        "frame:"
       ]
      },
      {
       "output_type": "stream",
       "stream": "stdout",
       "text": [
        " 17701\n",
        "frame:"
       ]
      },
      {
       "output_type": "stream",
       "stream": "stdout",
       "text": [
        " 17801\n",
        "frame:"
       ]
      },
      {
       "output_type": "stream",
       "stream": "stdout",
       "text": [
        " 17901\n",
        "frame:"
       ]
      },
      {
       "output_type": "stream",
       "stream": "stdout",
       "text": [
        " 18001\n",
        "frame:"
       ]
      },
      {
       "output_type": "stream",
       "stream": "stdout",
       "text": [
        " 18101\n",
        "frame:"
       ]
      },
      {
       "output_type": "stream",
       "stream": "stdout",
       "text": [
        " 18201\n",
        "frame:"
       ]
      },
      {
       "output_type": "stream",
       "stream": "stdout",
       "text": [
        " 18301\n",
        "frame:"
       ]
      },
      {
       "output_type": "stream",
       "stream": "stdout",
       "text": [
        " 18401\n",
        "frame:"
       ]
      },
      {
       "output_type": "stream",
       "stream": "stdout",
       "text": [
        " 18501\n",
        "frame:"
       ]
      },
      {
       "output_type": "stream",
       "stream": "stdout",
       "text": [
        " 18601\n",
        "frame:"
       ]
      },
      {
       "output_type": "stream",
       "stream": "stdout",
       "text": [
        " 18701\n",
        "frame:"
       ]
      },
      {
       "output_type": "stream",
       "stream": "stdout",
       "text": [
        " 18801\n",
        "frame:"
       ]
      },
      {
       "output_type": "stream",
       "stream": "stdout",
       "text": [
        " 18901\n",
        "frame:"
       ]
      },
      {
       "output_type": "stream",
       "stream": "stdout",
       "text": [
        " 19001\n",
        "frame:"
       ]
      },
      {
       "output_type": "stream",
       "stream": "stdout",
       "text": [
        " 19101\n",
        "frame:"
       ]
      },
      {
       "output_type": "stream",
       "stream": "stdout",
       "text": [
        " 19201\n",
        "frame:"
       ]
      },
      {
       "output_type": "stream",
       "stream": "stdout",
       "text": [
        " 19301\n",
        "frame:"
       ]
      },
      {
       "output_type": "stream",
       "stream": "stdout",
       "text": [
        " 19401\n",
        "frame:"
       ]
      },
      {
       "output_type": "stream",
       "stream": "stdout",
       "text": [
        " 19501\n",
        "frame:"
       ]
      },
      {
       "output_type": "stream",
       "stream": "stdout",
       "text": [
        " 19601\n",
        "frame:"
       ]
      },
      {
       "output_type": "stream",
       "stream": "stdout",
       "text": [
        " 19701\n",
        "frame:"
       ]
      },
      {
       "output_type": "stream",
       "stream": "stdout",
       "text": [
        " 19801\n",
        "frame:"
       ]
      },
      {
       "output_type": "stream",
       "stream": "stdout",
       "text": [
        " 19901\n",
        "frame:"
       ]
      },
      {
       "output_type": "stream",
       "stream": "stdout",
       "text": [
        " 20001\n",
        "frame:"
       ]
      },
      {
       "output_type": "stream",
       "stream": "stdout",
       "text": [
        " 20101\n",
        "frame:"
       ]
      },
      {
       "output_type": "stream",
       "stream": "stdout",
       "text": [
        " 20201\n",
        "frame:"
       ]
      },
      {
       "output_type": "stream",
       "stream": "stdout",
       "text": [
        " 20301\n",
        "frame:"
       ]
      },
      {
       "output_type": "stream",
       "stream": "stdout",
       "text": [
        " 20401\n",
        "frame:"
       ]
      },
      {
       "output_type": "stream",
       "stream": "stdout",
       "text": [
        " 20501\n",
        "frame:"
       ]
      },
      {
       "output_type": "stream",
       "stream": "stdout",
       "text": [
        " 20601\n",
        "frame:"
       ]
      },
      {
       "output_type": "stream",
       "stream": "stdout",
       "text": [
        " 20701\n",
        "frame:"
       ]
      },
      {
       "output_type": "stream",
       "stream": "stdout",
       "text": [
        " 20801\n",
        "frame:"
       ]
      },
      {
       "output_type": "stream",
       "stream": "stdout",
       "text": [
        " 20901\n",
        "frame:"
       ]
      },
      {
       "output_type": "stream",
       "stream": "stdout",
       "text": [
        " 21001\n",
        "frame:"
       ]
      },
      {
       "output_type": "stream",
       "stream": "stdout",
       "text": [
        " 21101\n",
        "frame:"
       ]
      },
      {
       "output_type": "stream",
       "stream": "stdout",
       "text": [
        " 21201\n",
        "frame:"
       ]
      },
      {
       "output_type": "stream",
       "stream": "stdout",
       "text": [
        " 21301\n",
        "frame:"
       ]
      },
      {
       "output_type": "stream",
       "stream": "stdout",
       "text": [
        " 21401\n",
        "frame:"
       ]
      },
      {
       "output_type": "stream",
       "stream": "stdout",
       "text": [
        " 21501\n",
        "frame:"
       ]
      },
      {
       "output_type": "stream",
       "stream": "stdout",
       "text": [
        " 21601\n",
        "frame:"
       ]
      },
      {
       "output_type": "stream",
       "stream": "stdout",
       "text": [
        " 21701\n",
        "frame:"
       ]
      },
      {
       "output_type": "stream",
       "stream": "stdout",
       "text": [
        " 21801\n",
        "frame:"
       ]
      },
      {
       "output_type": "stream",
       "stream": "stdout",
       "text": [
        " 21901\n",
        "frame:"
       ]
      },
      {
       "output_type": "stream",
       "stream": "stdout",
       "text": [
        " 22001\n",
        "frame:"
       ]
      },
      {
       "output_type": "stream",
       "stream": "stdout",
       "text": [
        " 22101\n",
        "frame:"
       ]
      },
      {
       "output_type": "stream",
       "stream": "stdout",
       "text": [
        " 22201\n",
        "frame:"
       ]
      },
      {
       "output_type": "stream",
       "stream": "stdout",
       "text": [
        " 22301\n",
        "frame:"
       ]
      },
      {
       "output_type": "stream",
       "stream": "stdout",
       "text": [
        " 22401\n",
        "frame:"
       ]
      },
      {
       "output_type": "stream",
       "stream": "stdout",
       "text": [
        " 22501\n",
        "frame:"
       ]
      },
      {
       "output_type": "stream",
       "stream": "stdout",
       "text": [
        " 22601\n",
        "frame:"
       ]
      },
      {
       "output_type": "stream",
       "stream": "stdout",
       "text": [
        " 22701\n",
        "frame:"
       ]
      },
      {
       "output_type": "stream",
       "stream": "stdout",
       "text": [
        " 22801\n",
        "frame:"
       ]
      },
      {
       "output_type": "stream",
       "stream": "stdout",
       "text": [
        " 22901\n",
        "frame:"
       ]
      },
      {
       "output_type": "stream",
       "stream": "stdout",
       "text": [
        " 23001\n",
        "frame:"
       ]
      },
      {
       "output_type": "stream",
       "stream": "stdout",
       "text": [
        " 23101\n",
        "frame:"
       ]
      },
      {
       "output_type": "stream",
       "stream": "stdout",
       "text": [
        " 23201\n",
        "frame:"
       ]
      },
      {
       "output_type": "stream",
       "stream": "stdout",
       "text": [
        " 23301\n",
        "frame:"
       ]
      },
      {
       "output_type": "stream",
       "stream": "stdout",
       "text": [
        " 23401\n",
        "frame:"
       ]
      },
      {
       "output_type": "stream",
       "stream": "stdout",
       "text": [
        " 23501\n",
        "frame:"
       ]
      },
      {
       "output_type": "stream",
       "stream": "stdout",
       "text": [
        " 23601\n",
        "frame:"
       ]
      },
      {
       "output_type": "stream",
       "stream": "stdout",
       "text": [
        " 23701\n",
        "frame:"
       ]
      },
      {
       "output_type": "stream",
       "stream": "stdout",
       "text": [
        " 23801\n",
        "frame:"
       ]
      },
      {
       "output_type": "stream",
       "stream": "stdout",
       "text": [
        " 23901\n",
        "frame:"
       ]
      },
      {
       "output_type": "stream",
       "stream": "stdout",
       "text": [
        " 24001\n",
        "frame:"
       ]
      },
      {
       "output_type": "stream",
       "stream": "stdout",
       "text": [
        " 24101\n",
        "frame:"
       ]
      },
      {
       "output_type": "stream",
       "stream": "stdout",
       "text": [
        " 24201\n",
        "frame:"
       ]
      },
      {
       "output_type": "stream",
       "stream": "stdout",
       "text": [
        " 24301\n",
        "frame:"
       ]
      },
      {
       "output_type": "stream",
       "stream": "stdout",
       "text": [
        " 24401\n",
        "frame:"
       ]
      },
      {
       "output_type": "stream",
       "stream": "stdout",
       "text": [
        " 24501\n",
        "frame:"
       ]
      },
      {
       "output_type": "stream",
       "stream": "stdout",
       "text": [
        " 24601\n",
        "frame:"
       ]
      },
      {
       "output_type": "stream",
       "stream": "stdout",
       "text": [
        " 24701\n",
        "frame:"
       ]
      },
      {
       "output_type": "stream",
       "stream": "stdout",
       "text": [
        " 24801\n",
        "frame:"
       ]
      },
      {
       "output_type": "stream",
       "stream": "stdout",
       "text": [
        " 24901\n",
        "frame:"
       ]
      },
      {
       "output_type": "stream",
       "stream": "stdout",
       "text": [
        " 25001\n",
        "frame:"
       ]
      },
      {
       "output_type": "stream",
       "stream": "stdout",
       "text": [
        " 25101\n",
        "frame:"
       ]
      },
      {
       "output_type": "stream",
       "stream": "stdout",
       "text": [
        " 25201\n",
        "frame:"
       ]
      },
      {
       "output_type": "stream",
       "stream": "stdout",
       "text": [
        " 25301\n",
        "frame:"
       ]
      },
      {
       "output_type": "stream",
       "stream": "stdout",
       "text": [
        " 25401\n",
        "frame:"
       ]
      },
      {
       "output_type": "stream",
       "stream": "stdout",
       "text": [
        " 25501\n",
        "frame:"
       ]
      },
      {
       "output_type": "stream",
       "stream": "stdout",
       "text": [
        " 25601\n",
        "frame:"
       ]
      },
      {
       "output_type": "stream",
       "stream": "stdout",
       "text": [
        " 25701\n",
        "frame:"
       ]
      },
      {
       "output_type": "stream",
       "stream": "stdout",
       "text": [
        " 25801\n",
        "frame:"
       ]
      },
      {
       "output_type": "stream",
       "stream": "stdout",
       "text": [
        " 25901\n",
        "frame:"
       ]
      },
      {
       "output_type": "stream",
       "stream": "stdout",
       "text": [
        " 26001\n",
        "frame:"
       ]
      },
      {
       "output_type": "stream",
       "stream": "stdout",
       "text": [
        " 26101\n",
        "frame:"
       ]
      },
      {
       "output_type": "stream",
       "stream": "stdout",
       "text": [
        " 26201\n",
        "frame:"
       ]
      },
      {
       "output_type": "stream",
       "stream": "stdout",
       "text": [
        " 26301\n",
        "frame:"
       ]
      },
      {
       "output_type": "stream",
       "stream": "stdout",
       "text": [
        " 26401\n",
        "frame:"
       ]
      },
      {
       "output_type": "stream",
       "stream": "stdout",
       "text": [
        " 26501\n",
        "frame:"
       ]
      },
      {
       "output_type": "stream",
       "stream": "stdout",
       "text": [
        " 26601\n",
        "frame:"
       ]
      },
      {
       "output_type": "stream",
       "stream": "stdout",
       "text": [
        " 26701\n",
        "frame:"
       ]
      },
      {
       "output_type": "stream",
       "stream": "stdout",
       "text": [
        " 26801\n",
        "frame:"
       ]
      },
      {
       "output_type": "stream",
       "stream": "stdout",
       "text": [
        " 26901\n",
        "frame:"
       ]
      },
      {
       "output_type": "stream",
       "stream": "stdout",
       "text": [
        " 27001\n",
        "frame:"
       ]
      },
      {
       "output_type": "stream",
       "stream": "stdout",
       "text": [
        " 27101\n",
        "frame:"
       ]
      },
      {
       "output_type": "stream",
       "stream": "stdout",
       "text": [
        " 27201\n",
        "frame:"
       ]
      },
      {
       "output_type": "stream",
       "stream": "stdout",
       "text": [
        " 27301\n",
        "frame:"
       ]
      },
      {
       "output_type": "stream",
       "stream": "stdout",
       "text": [
        " 27401\n",
        "frame:"
       ]
      },
      {
       "output_type": "stream",
       "stream": "stdout",
       "text": [
        " 27501\n",
        "frame:"
       ]
      },
      {
       "output_type": "stream",
       "stream": "stdout",
       "text": [
        " 27601\n",
        "frame:"
       ]
      },
      {
       "output_type": "stream",
       "stream": "stdout",
       "text": [
        " 27701\n",
        "frame:"
       ]
      },
      {
       "output_type": "stream",
       "stream": "stdout",
       "text": [
        " 27801\n",
        "frame:"
       ]
      },
      {
       "output_type": "stream",
       "stream": "stdout",
       "text": [
        " 27901\n",
        "frame:"
       ]
      },
      {
       "output_type": "stream",
       "stream": "stdout",
       "text": [
        " 28001\n",
        "frame:"
       ]
      },
      {
       "output_type": "stream",
       "stream": "stdout",
       "text": [
        " 28101\n",
        "frame:"
       ]
      },
      {
       "output_type": "stream",
       "stream": "stdout",
       "text": [
        " 28201\n",
        "frame:"
       ]
      },
      {
       "output_type": "stream",
       "stream": "stdout",
       "text": [
        " 28301\n",
        "frame:"
       ]
      },
      {
       "output_type": "stream",
       "stream": "stdout",
       "text": [
        " 28401\n",
        "frame:"
       ]
      },
      {
       "output_type": "stream",
       "stream": "stdout",
       "text": [
        " 28501\n",
        "frame:"
       ]
      },
      {
       "output_type": "stream",
       "stream": "stdout",
       "text": [
        " 28601\n",
        "frame:"
       ]
      },
      {
       "output_type": "stream",
       "stream": "stdout",
       "text": [
        " 28701\n",
        "frame:"
       ]
      },
      {
       "output_type": "stream",
       "stream": "stdout",
       "text": [
        " 28801\n",
        "frame:"
       ]
      },
      {
       "output_type": "stream",
       "stream": "stdout",
       "text": [
        " 28901\n",
        "frame:"
       ]
      },
      {
       "output_type": "stream",
       "stream": "stdout",
       "text": [
        " 29001\n",
        "frame:"
       ]
      },
      {
       "output_type": "stream",
       "stream": "stdout",
       "text": [
        " 29101\n",
        "frame:"
       ]
      },
      {
       "output_type": "stream",
       "stream": "stdout",
       "text": [
        " 29201\n",
        "frame:"
       ]
      },
      {
       "output_type": "stream",
       "stream": "stdout",
       "text": [
        " 29301\n",
        "frame:"
       ]
      },
      {
       "output_type": "stream",
       "stream": "stdout",
       "text": [
        " 29401\n",
        "frame:"
       ]
      },
      {
       "output_type": "stream",
       "stream": "stdout",
       "text": [
        " 29501\n",
        "frame:"
       ]
      },
      {
       "output_type": "stream",
       "stream": "stdout",
       "text": [
        " 29601\n",
        "frame:"
       ]
      },
      {
       "output_type": "stream",
       "stream": "stdout",
       "text": [
        " 29701\n",
        "frame:"
       ]
      },
      {
       "output_type": "stream",
       "stream": "stdout",
       "text": [
        " 29801\n",
        "frame:"
       ]
      },
      {
       "output_type": "stream",
       "stream": "stdout",
       "text": [
        " 29901\n",
        "frame:"
       ]
      },
      {
       "output_type": "stream",
       "stream": "stdout",
       "text": [
        " 30001\n",
        "frame:"
       ]
      },
      {
       "output_type": "stream",
       "stream": "stdout",
       "text": [
        " 30101\n",
        "frame:"
       ]
      },
      {
       "output_type": "stream",
       "stream": "stdout",
       "text": [
        " 30201\n",
        "frame:"
       ]
      },
      {
       "output_type": "stream",
       "stream": "stdout",
       "text": [
        " 30301\n",
        "frame:"
       ]
      },
      {
       "output_type": "stream",
       "stream": "stdout",
       "text": [
        " 30401\n",
        "frame:"
       ]
      },
      {
       "output_type": "stream",
       "stream": "stdout",
       "text": [
        " 30501\n",
        "frame:"
       ]
      },
      {
       "output_type": "stream",
       "stream": "stdout",
       "text": [
        " 30601\n",
        "frame:"
       ]
      },
      {
       "output_type": "stream",
       "stream": "stdout",
       "text": [
        " 30701\n",
        "frame:"
       ]
      },
      {
       "output_type": "stream",
       "stream": "stdout",
       "text": [
        " 30801\n",
        "frame:"
       ]
      },
      {
       "output_type": "stream",
       "stream": "stdout",
       "text": [
        " 30901\n",
        "frame:"
       ]
      },
      {
       "output_type": "stream",
       "stream": "stdout",
       "text": [
        " 31001\n",
        "frame:"
       ]
      },
      {
       "output_type": "stream",
       "stream": "stdout",
       "text": [
        " 31101\n",
        "frame:"
       ]
      },
      {
       "output_type": "stream",
       "stream": "stdout",
       "text": [
        " 31201\n",
        "frame:"
       ]
      },
      {
       "output_type": "stream",
       "stream": "stdout",
       "text": [
        " 31301\n",
        "frame:"
       ]
      },
      {
       "output_type": "stream",
       "stream": "stdout",
       "text": [
        " 31401\n",
        "frame:"
       ]
      },
      {
       "output_type": "stream",
       "stream": "stdout",
       "text": [
        " 31501\n",
        "frame:"
       ]
      },
      {
       "output_type": "stream",
       "stream": "stdout",
       "text": [
        " 31601\n",
        "frame:"
       ]
      },
      {
       "output_type": "stream",
       "stream": "stdout",
       "text": [
        " 31701\n",
        "frame:"
       ]
      },
      {
       "output_type": "stream",
       "stream": "stdout",
       "text": [
        " 31801\n",
        "frame:"
       ]
      },
      {
       "output_type": "stream",
       "stream": "stdout",
       "text": [
        " 31901\n",
        "frame:"
       ]
      },
      {
       "output_type": "stream",
       "stream": "stdout",
       "text": [
        " 32001\n",
        "frame:"
       ]
      },
      {
       "output_type": "stream",
       "stream": "stdout",
       "text": [
        " 32101\n",
        "frame:"
       ]
      },
      {
       "output_type": "stream",
       "stream": "stdout",
       "text": [
        " 32201\n",
        "frame:"
       ]
      },
      {
       "output_type": "stream",
       "stream": "stdout",
       "text": [
        " 32301\n",
        "frame:"
       ]
      },
      {
       "output_type": "stream",
       "stream": "stdout",
       "text": [
        " 32401\n",
        "frame:"
       ]
      },
      {
       "output_type": "stream",
       "stream": "stdout",
       "text": [
        " 32501\n",
        "frame:"
       ]
      },
      {
       "output_type": "stream",
       "stream": "stdout",
       "text": [
        " 32601\n",
        "frame:"
       ]
      },
      {
       "output_type": "stream",
       "stream": "stdout",
       "text": [
        " 32701\n",
        "frame:"
       ]
      },
      {
       "output_type": "stream",
       "stream": "stdout",
       "text": [
        " 32801\n",
        "frame:"
       ]
      },
      {
       "output_type": "stream",
       "stream": "stdout",
       "text": [
        " 32901\n",
        "frame:"
       ]
      },
      {
       "output_type": "stream",
       "stream": "stdout",
       "text": [
        " 33001\n",
        "frame:"
       ]
      },
      {
       "output_type": "stream",
       "stream": "stdout",
       "text": [
        " 33101\n",
        "frame:"
       ]
      },
      {
       "output_type": "stream",
       "stream": "stdout",
       "text": [
        " 33201\n",
        "frame:"
       ]
      },
      {
       "output_type": "stream",
       "stream": "stdout",
       "text": [
        " 33301\n",
        "frame:"
       ]
      },
      {
       "output_type": "stream",
       "stream": "stdout",
       "text": [
        " 33401\n",
        "frame:"
       ]
      },
      {
       "output_type": "stream",
       "stream": "stdout",
       "text": [
        " 33501\n",
        "frame:"
       ]
      },
      {
       "output_type": "stream",
       "stream": "stdout",
       "text": [
        " 33601\n",
        "frame:"
       ]
      },
      {
       "output_type": "stream",
       "stream": "stdout",
       "text": [
        " 33701\n",
        "frame:"
       ]
      },
      {
       "output_type": "stream",
       "stream": "stdout",
       "text": [
        " 33801\n",
        "frame:"
       ]
      },
      {
       "output_type": "stream",
       "stream": "stdout",
       "text": [
        " 33901\n",
        "frame:"
       ]
      },
      {
       "output_type": "stream",
       "stream": "stdout",
       "text": [
        " 34001\n",
        "frame:"
       ]
      },
      {
       "output_type": "stream",
       "stream": "stdout",
       "text": [
        " 34101\n",
        "frame:"
       ]
      },
      {
       "output_type": "stream",
       "stream": "stdout",
       "text": [
        " 34201\n",
        "frame:"
       ]
      },
      {
       "output_type": "stream",
       "stream": "stdout",
       "text": [
        " 34301\n",
        "frame:"
       ]
      },
      {
       "output_type": "stream",
       "stream": "stdout",
       "text": [
        " 34401\n",
        "frame:"
       ]
      },
      {
       "output_type": "stream",
       "stream": "stdout",
       "text": [
        " 34501\n",
        "frame:"
       ]
      },
      {
       "output_type": "stream",
       "stream": "stdout",
       "text": [
        " 34601\n",
        "frame:"
       ]
      },
      {
       "output_type": "stream",
       "stream": "stdout",
       "text": [
        " 34701\n",
        "frame:"
       ]
      },
      {
       "output_type": "stream",
       "stream": "stdout",
       "text": [
        " 34801\n",
        "frame:"
       ]
      },
      {
       "output_type": "stream",
       "stream": "stdout",
       "text": [
        " 34901\n",
        "frame:"
       ]
      },
      {
       "output_type": "stream",
       "stream": "stdout",
       "text": [
        " 35001\n",
        "frame:"
       ]
      },
      {
       "output_type": "stream",
       "stream": "stdout",
       "text": [
        " 35101\n",
        "frame:"
       ]
      },
      {
       "output_type": "stream",
       "stream": "stdout",
       "text": [
        " 35201\n",
        "frame:"
       ]
      },
      {
       "output_type": "stream",
       "stream": "stdout",
       "text": [
        " 35301\n",
        "frame:"
       ]
      },
      {
       "output_type": "stream",
       "stream": "stdout",
       "text": [
        " 35401\n",
        "frame:"
       ]
      },
      {
       "output_type": "stream",
       "stream": "stdout",
       "text": [
        " 35501\n",
        "frame:"
       ]
      },
      {
       "output_type": "stream",
       "stream": "stdout",
       "text": [
        " 35601\n",
        "frame:"
       ]
      },
      {
       "output_type": "stream",
       "stream": "stdout",
       "text": [
        " 35701\n",
        "frame:"
       ]
      },
      {
       "output_type": "stream",
       "stream": "stdout",
       "text": [
        " 35801\n",
        "frame:"
       ]
      },
      {
       "output_type": "stream",
       "stream": "stdout",
       "text": [
        " 35901\n",
        "frame:"
       ]
      },
      {
       "output_type": "stream",
       "stream": "stdout",
       "text": [
        " 36001\n",
        "frame:"
       ]
      },
      {
       "output_type": "stream",
       "stream": "stdout",
       "text": [
        " 36101\n",
        "frame:"
       ]
      },
      {
       "output_type": "stream",
       "stream": "stdout",
       "text": [
        " 36201\n",
        "frame:"
       ]
      },
      {
       "output_type": "stream",
       "stream": "stdout",
       "text": [
        " 36301\n",
        "frame:"
       ]
      },
      {
       "output_type": "stream",
       "stream": "stdout",
       "text": [
        " 36401\n",
        "frame:"
       ]
      },
      {
       "output_type": "stream",
       "stream": "stdout",
       "text": [
        " 36501\n",
        "frame:"
       ]
      },
      {
       "output_type": "stream",
       "stream": "stdout",
       "text": [
        " 36601\n",
        "frame:"
       ]
      },
      {
       "output_type": "stream",
       "stream": "stdout",
       "text": [
        " 36701\n",
        "frame:"
       ]
      },
      {
       "output_type": "stream",
       "stream": "stdout",
       "text": [
        " 36801\n",
        "frame:"
       ]
      },
      {
       "output_type": "stream",
       "stream": "stdout",
       "text": [
        " 36901\n",
        "frame:"
       ]
      },
      {
       "output_type": "stream",
       "stream": "stdout",
       "text": [
        " 37001\n",
        "frame:"
       ]
      },
      {
       "output_type": "stream",
       "stream": "stdout",
       "text": [
        " 37101\n",
        "frame:"
       ]
      },
      {
       "output_type": "stream",
       "stream": "stdout",
       "text": [
        " 37201\n",
        "frame:"
       ]
      },
      {
       "output_type": "stream",
       "stream": "stdout",
       "text": [
        " 37301\n",
        "frame:"
       ]
      },
      {
       "output_type": "stream",
       "stream": "stdout",
       "text": [
        " 37401\n",
        "frame:"
       ]
      },
      {
       "output_type": "stream",
       "stream": "stdout",
       "text": [
        " 37501\n",
        "frame:"
       ]
      },
      {
       "output_type": "stream",
       "stream": "stdout",
       "text": [
        " 37601\n",
        "frame:"
       ]
      },
      {
       "output_type": "stream",
       "stream": "stdout",
       "text": [
        " 37701\n",
        "frame:"
       ]
      },
      {
       "output_type": "stream",
       "stream": "stdout",
       "text": [
        " 37801\n",
        "frame:"
       ]
      },
      {
       "output_type": "stream",
       "stream": "stdout",
       "text": [
        " 37901\n",
        "frame:"
       ]
      },
      {
       "output_type": "stream",
       "stream": "stdout",
       "text": [
        " 38001\n",
        "frame:"
       ]
      },
      {
       "output_type": "stream",
       "stream": "stdout",
       "text": [
        " 38101\n",
        "frame:"
       ]
      },
      {
       "output_type": "stream",
       "stream": "stdout",
       "text": [
        " 38201\n",
        "frame:"
       ]
      },
      {
       "output_type": "stream",
       "stream": "stdout",
       "text": [
        " 38301\n",
        "frame:"
       ]
      },
      {
       "output_type": "stream",
       "stream": "stdout",
       "text": [
        " 38401\n",
        "frame:"
       ]
      },
      {
       "output_type": "stream",
       "stream": "stdout",
       "text": [
        " 38501\n",
        "frame:"
       ]
      },
      {
       "output_type": "stream",
       "stream": "stdout",
       "text": [
        " 38601\n",
        "frame:"
       ]
      },
      {
       "output_type": "stream",
       "stream": "stdout",
       "text": [
        " 38701\n",
        "frame:"
       ]
      },
      {
       "output_type": "stream",
       "stream": "stdout",
       "text": [
        " 38801\n",
        "frame:"
       ]
      },
      {
       "output_type": "stream",
       "stream": "stdout",
       "text": [
        " 38901\n",
        "frame:"
       ]
      },
      {
       "output_type": "stream",
       "stream": "stdout",
       "text": [
        " 39001\n",
        "frame:"
       ]
      },
      {
       "output_type": "stream",
       "stream": "stdout",
       "text": [
        " 39101\n",
        "frame:"
       ]
      },
      {
       "output_type": "stream",
       "stream": "stdout",
       "text": [
        " 39201\n",
        "frame:"
       ]
      },
      {
       "output_type": "stream",
       "stream": "stdout",
       "text": [
        " 39301\n",
        "frame:"
       ]
      },
      {
       "output_type": "stream",
       "stream": "stdout",
       "text": [
        " 39401\n",
        "frame:"
       ]
      },
      {
       "output_type": "stream",
       "stream": "stdout",
       "text": [
        " 39501\n",
        "frame:"
       ]
      },
      {
       "output_type": "stream",
       "stream": "stdout",
       "text": [
        " 39601\n",
        "frame:"
       ]
      },
      {
       "output_type": "stream",
       "stream": "stdout",
       "text": [
        " 39701\n",
        "frame:"
       ]
      },
      {
       "output_type": "stream",
       "stream": "stdout",
       "text": [
        " 39801\n",
        "frame:"
       ]
      },
      {
       "output_type": "stream",
       "stream": "stdout",
       "text": [
        " 39901\n",
        "frame:"
       ]
      },
      {
       "output_type": "stream",
       "stream": "stdout",
       "text": [
        " 40001\n",
        "frame:"
       ]
      },
      {
       "output_type": "stream",
       "stream": "stdout",
       "text": [
        " 40101\n",
        "frame:"
       ]
      },
      {
       "output_type": "stream",
       "stream": "stdout",
       "text": [
        " 40201\n",
        "frame:"
       ]
      },
      {
       "output_type": "stream",
       "stream": "stdout",
       "text": [
        " 40301\n",
        "frame:"
       ]
      },
      {
       "output_type": "stream",
       "stream": "stdout",
       "text": [
        " 40401\n",
        "frame:"
       ]
      },
      {
       "output_type": "stream",
       "stream": "stdout",
       "text": [
        " 40501\n",
        "frame:"
       ]
      },
      {
       "output_type": "stream",
       "stream": "stdout",
       "text": [
        " 40601\n",
        "frame:"
       ]
      },
      {
       "output_type": "stream",
       "stream": "stdout",
       "text": [
        " 40701\n",
        "frame:"
       ]
      },
      {
       "output_type": "stream",
       "stream": "stdout",
       "text": [
        " 40801\n",
        "frame:"
       ]
      },
      {
       "output_type": "stream",
       "stream": "stdout",
       "text": [
        " 40901\n",
        "frame:"
       ]
      },
      {
       "output_type": "stream",
       "stream": "stdout",
       "text": [
        " 41001\n",
        "frame:"
       ]
      },
      {
       "output_type": "stream",
       "stream": "stdout",
       "text": [
        " 41101\n",
        "frame:"
       ]
      },
      {
       "output_type": "stream",
       "stream": "stdout",
       "text": [
        " 41201\n",
        "frame:"
       ]
      },
      {
       "output_type": "stream",
       "stream": "stdout",
       "text": [
        " 41301\n",
        "frame:"
       ]
      },
      {
       "output_type": "stream",
       "stream": "stdout",
       "text": [
        " 41401\n",
        "frame:"
       ]
      },
      {
       "output_type": "stream",
       "stream": "stdout",
       "text": [
        " 41501\n",
        "frame:"
       ]
      },
      {
       "output_type": "stream",
       "stream": "stdout",
       "text": [
        " 41601\n",
        "frame:"
       ]
      },
      {
       "output_type": "stream",
       "stream": "stdout",
       "text": [
        " 41701\n",
        "frame:"
       ]
      },
      {
       "output_type": "stream",
       "stream": "stdout",
       "text": [
        " 41801\n",
        "frame:"
       ]
      },
      {
       "output_type": "stream",
       "stream": "stdout",
       "text": [
        " 41901\n",
        "frame:"
       ]
      },
      {
       "output_type": "stream",
       "stream": "stdout",
       "text": [
        " 42001\n",
        "frame:"
       ]
      },
      {
       "output_type": "stream",
       "stream": "stdout",
       "text": [
        " 42101\n",
        "frame:"
       ]
      },
      {
       "output_type": "stream",
       "stream": "stdout",
       "text": [
        " 42201\n",
        "frame:"
       ]
      },
      {
       "output_type": "stream",
       "stream": "stdout",
       "text": [
        " 42301\n",
        "frame:"
       ]
      },
      {
       "output_type": "stream",
       "stream": "stdout",
       "text": [
        " 42401\n",
        "frame:"
       ]
      },
      {
       "output_type": "stream",
       "stream": "stdout",
       "text": [
        " 42501\n",
        "frame:"
       ]
      },
      {
       "output_type": "stream",
       "stream": "stdout",
       "text": [
        " 42601\n",
        "frame:"
       ]
      },
      {
       "output_type": "stream",
       "stream": "stdout",
       "text": [
        " 42701\n",
        "frame:"
       ]
      },
      {
       "output_type": "stream",
       "stream": "stdout",
       "text": [
        " 42801\n",
        "frame:"
       ]
      },
      {
       "output_type": "stream",
       "stream": "stdout",
       "text": [
        " 42901\n",
        "frame:"
       ]
      },
      {
       "output_type": "stream",
       "stream": "stdout",
       "text": [
        " 43001\n",
        "frame:"
       ]
      },
      {
       "output_type": "stream",
       "stream": "stdout",
       "text": [
        " 43101\n",
        "frame:"
       ]
      },
      {
       "output_type": "stream",
       "stream": "stdout",
       "text": [
        " 43201\n",
        "frame:"
       ]
      },
      {
       "output_type": "stream",
       "stream": "stdout",
       "text": [
        " 43301\n",
        "frame:"
       ]
      },
      {
       "output_type": "stream",
       "stream": "stdout",
       "text": [
        " 43401\n",
        "frame:"
       ]
      },
      {
       "output_type": "stream",
       "stream": "stdout",
       "text": [
        " 43501\n",
        "frame:"
       ]
      },
      {
       "output_type": "stream",
       "stream": "stdout",
       "text": [
        " 43601\n",
        "frame:"
       ]
      },
      {
       "output_type": "stream",
       "stream": "stdout",
       "text": [
        " 43701\n",
        "frame:"
       ]
      },
      {
       "output_type": "stream",
       "stream": "stdout",
       "text": [
        " 43801\n",
        "frame:"
       ]
      },
      {
       "output_type": "stream",
       "stream": "stdout",
       "text": [
        " 43901\n",
        "frame:"
       ]
      },
      {
       "output_type": "stream",
       "stream": "stdout",
       "text": [
        " 44001\n",
        "frame:"
       ]
      },
      {
       "output_type": "stream",
       "stream": "stdout",
       "text": [
        " 44101\n",
        "frame:"
       ]
      },
      {
       "output_type": "stream",
       "stream": "stdout",
       "text": [
        " 44201\n",
        "frame:"
       ]
      },
      {
       "output_type": "stream",
       "stream": "stdout",
       "text": [
        " 44301\n",
        "frame:"
       ]
      },
      {
       "output_type": "stream",
       "stream": "stdout",
       "text": [
        " 44401\n",
        "frame:"
       ]
      },
      {
       "output_type": "stream",
       "stream": "stdout",
       "text": [
        " 44501\n",
        "frame:"
       ]
      },
      {
       "output_type": "stream",
       "stream": "stdout",
       "text": [
        " 44601\n",
        "frame:"
       ]
      },
      {
       "output_type": "stream",
       "stream": "stdout",
       "text": [
        " 44701\n",
        "frame:"
       ]
      },
      {
       "output_type": "stream",
       "stream": "stdout",
       "text": [
        " 44801\n",
        "frame:"
       ]
      },
      {
       "output_type": "stream",
       "stream": "stdout",
       "text": [
        " 44901\n",
        "frame:"
       ]
      },
      {
       "output_type": "stream",
       "stream": "stdout",
       "text": [
        " 45001\n",
        "frame:"
       ]
      },
      {
       "output_type": "stream",
       "stream": "stdout",
       "text": [
        " 45101\n",
        "frame:"
       ]
      },
      {
       "output_type": "stream",
       "stream": "stdout",
       "text": [
        " 45201\n",
        "frame:"
       ]
      },
      {
       "output_type": "stream",
       "stream": "stdout",
       "text": [
        " 45301\n",
        "frame:"
       ]
      },
      {
       "output_type": "stream",
       "stream": "stdout",
       "text": [
        " 45401\n",
        "frame:"
       ]
      },
      {
       "output_type": "stream",
       "stream": "stdout",
       "text": [
        " 45501\n",
        "frame:"
       ]
      },
      {
       "output_type": "stream",
       "stream": "stdout",
       "text": [
        " 45601\n",
        "frame:"
       ]
      },
      {
       "output_type": "stream",
       "stream": "stdout",
       "text": [
        " 45701\n",
        "frame:"
       ]
      },
      {
       "output_type": "stream",
       "stream": "stdout",
       "text": [
        " 45801\n",
        "frame:"
       ]
      },
      {
       "output_type": "stream",
       "stream": "stdout",
       "text": [
        " 45901\n",
        "frame:"
       ]
      },
      {
       "output_type": "stream",
       "stream": "stdout",
       "text": [
        " 46001\n",
        "frame:"
       ]
      },
      {
       "output_type": "stream",
       "stream": "stdout",
       "text": [
        " 46101\n",
        "frame:"
       ]
      },
      {
       "output_type": "stream",
       "stream": "stdout",
       "text": [
        " 46201\n",
        "frame:"
       ]
      },
      {
       "output_type": "stream",
       "stream": "stdout",
       "text": [
        " 46301\n",
        "frame:"
       ]
      },
      {
       "output_type": "stream",
       "stream": "stdout",
       "text": [
        " 46401\n",
        "frame:"
       ]
      },
      {
       "output_type": "stream",
       "stream": "stdout",
       "text": [
        " 46501\n",
        "frame:"
       ]
      },
      {
       "output_type": "stream",
       "stream": "stdout",
       "text": [
        " 46601\n",
        "frame:"
       ]
      },
      {
       "output_type": "stream",
       "stream": "stdout",
       "text": [
        " 46701\n",
        "frame:"
       ]
      },
      {
       "output_type": "stream",
       "stream": "stdout",
       "text": [
        " 46801\n",
        "frame:"
       ]
      },
      {
       "output_type": "stream",
       "stream": "stdout",
       "text": [
        " 46901\n",
        "frame:"
       ]
      },
      {
       "output_type": "stream",
       "stream": "stdout",
       "text": [
        " 47001\n",
        "frame:"
       ]
      },
      {
       "output_type": "stream",
       "stream": "stdout",
       "text": [
        " 47101\n",
        "frame:"
       ]
      },
      {
       "output_type": "stream",
       "stream": "stdout",
       "text": [
        " 47201\n",
        "frame:"
       ]
      },
      {
       "output_type": "stream",
       "stream": "stdout",
       "text": [
        " 47301\n",
        "frame:"
       ]
      },
      {
       "output_type": "stream",
       "stream": "stdout",
       "text": [
        " 47401\n",
        "frame:"
       ]
      },
      {
       "output_type": "stream",
       "stream": "stdout",
       "text": [
        " 47501\n",
        "frame:"
       ]
      },
      {
       "output_type": "stream",
       "stream": "stdout",
       "text": [
        " 47601\n",
        "frame:"
       ]
      },
      {
       "output_type": "stream",
       "stream": "stdout",
       "text": [
        " 47701\n",
        "frame:"
       ]
      },
      {
       "output_type": "stream",
       "stream": "stdout",
       "text": [
        " 47801\n",
        "frame:"
       ]
      },
      {
       "output_type": "stream",
       "stream": "stdout",
       "text": [
        " 47901\n",
        "frame:"
       ]
      },
      {
       "output_type": "stream",
       "stream": "stdout",
       "text": [
        " 48001\n",
        "frame:"
       ]
      },
      {
       "output_type": "stream",
       "stream": "stdout",
       "text": [
        " 48101\n",
        "frame:"
       ]
      },
      {
       "output_type": "stream",
       "stream": "stdout",
       "text": [
        " 48201\n",
        "frame:"
       ]
      },
      {
       "output_type": "stream",
       "stream": "stdout",
       "text": [
        " 48301\n",
        "frame:"
       ]
      },
      {
       "output_type": "stream",
       "stream": "stdout",
       "text": [
        " 48401\n",
        "frame:"
       ]
      },
      {
       "output_type": "stream",
       "stream": "stdout",
       "text": [
        " 48501\n",
        "frame:"
       ]
      },
      {
       "output_type": "stream",
       "stream": "stdout",
       "text": [
        " 48601\n",
        "frame:"
       ]
      },
      {
       "output_type": "stream",
       "stream": "stdout",
       "text": [
        " 48701\n",
        "frame:"
       ]
      },
      {
       "output_type": "stream",
       "stream": "stdout",
       "text": [
        " 48801\n",
        "frame:"
       ]
      },
      {
       "output_type": "stream",
       "stream": "stdout",
       "text": [
        " 48901\n"
       ]
      }
     ],
     "prompt_number": 8
    },
    {
     "cell_type": "code",
     "collapsed": false,
     "input": [
      "#plot the testing data produced above:\n",
      "array_min_PPCH_PO4_radial_distances = numpy.array(list_min_PPCH_PO4_distances) / 10.0 #convert to nm\n",
      "array_max_PPCH_PO4_radial_distances = numpy.array(list_max_PPCH_PO4_distances) / 10.0 #convert to nm\n",
      "array_average_PPCH_PO4_radial_distances = numpy.array(list_average_PPCH_PO4_distances) / 10.0 #convert to nm\n",
      "array_std_dev_PPCH_PO4_radial_distances = numpy.array(list_std_dev_PPCH_PO4_distances) / 10.0 #convert to nm\n",
      "array_frame_numbers = numpy.array(list_frame_numbers)\n",
      "array_percent_PPCH_PO4_above_threshold = numpy.array(list_PPCH_percent_above_treshold)\n",
      "fig1 = plt.figure()\n",
      "ax = fig1.add_subplot('321')\n",
      "ax.scatter(array_frame_numbers,array_min_PPCH_PO4_radial_distances,label='min PPCH PO4 radial distance',c='black',edgecolor='None')\n",
      "ax.scatter(array_frame_numbers,array_max_PPCH_PO4_radial_distances,label='max PPCH PO4 radial distance',c='red',edgecolor='None')\n",
      "ax.scatter(array_frame_numbers,array_average_PPCH_PO4_radial_distances,label='average PPCH PO4 radial distance',c='blue',edgecolor='None')\n",
      "ax.fill_between(array_frame_numbers,array_average_PPCH_PO4_radial_distances-array_std_dev_PPCH_PO4_radial_distances,array_average_PPCH_PO4_radial_distances+array_std_dev_PPCH_PO4_radial_distances,color='blue',alpha=0.2) #show the standard deviation about the mean PPCH PO4 OD values\n",
      "ax.set_xlabel('Frame #')\n",
      "ax.set_ylabel('Radial distance from vesicle centroid (nm)')\n",
      "ax.legend()\n",
      "ax.axhline(y=threshold/10.,xmin=0,xmax=50000,c='green') #radial distance values above this threshold should capture most of the PPCH PO4 particles (within 1 std dev of the mean)\n",
      "ax.axvline(x=3000,ymin=0,ymax=1,c='green') #300 ns (3000 frame) equilibration line -- where the holes have sealed and the OD is stable\n",
      "#now, use a second plot to track the % of PPCH PO4 particles that fall above the assigned radial distance threshold\n",
      "ax.set_ylim(20,45)\n",
      "ax.set_xlim(-900,50000)\n",
      "ax2 = fig1.add_subplot('322')\n",
      "ax2.scatter(array_frame_numbers,array_percent_PPCH_PO4_above_threshold,color='orange',edgecolor='None')\n",
      "ax2.set_xlabel('Frame #')\n",
      "ax2.set_ylabel('Percent PPCH PO4 particles above cutoff\\n radial distance threshold')\n",
      "ax2.axhline(y=98.0,xmin=0,xmax=50000,c='purple',lw=6,alpha=0.4) #98% of PPCH PO4 particles\n",
      "ax2.axvline(x=3000,ymin=0,ymax=1,c='green') #300 ns (3000 frame) equilibration line -- where the holes have sealed and the OD is stable\n",
      "ax2.set_ylim(80,100.0)\n",
      "ax2.set_xlim(-900,50000)\n",
      "\n",
      "#now, CHOL-related plots in the second row\n",
      "array_min_CHOL_ROH_radial_distances = numpy.array(list_min_CHOL_ROH_distances)/ 10.\n",
      "array_max_CHOL_ROH_radial_distances = numpy.array(list_max_CHOL_ROH_distances)/ 10.\n",
      "array_average_CHOL_ROH_radial_distances = numpy.array(list_average_CHOL_ROH_distances)/ 10.\n",
      "array_std_dev_CHOL_ROH_radial_distances = numpy.array(list_std_dev_CHOL_ROH_distances)/ 10.\n",
      "array_CHOL_ROH_unbiased_midpoint_distances = numpy.array(list_CHOL_ROH_midpoint_distances) / 10.\n",
      "array_CHOL_ROH_percent_above_midpoint_threshold = numpy.array(list_CHOL_ROH_percent_above_threshold)\n",
      "array_CHOL_ROH_percent_below_midpoint_threshold = numpy.array(list_CHOL_ROH_percent_below_threshold)\n",
      "\n",
      "ax3 = fig1.add_subplot('323')\n",
      "ax3.scatter(array_frame_numbers,array_min_CHOL_ROH_radial_distances,label='min CHOL ROH radial distance',c='black',edgecolor='None')\n",
      "ax3.scatter(array_frame_numbers,array_max_CHOL_ROH_radial_distances,label='max CHOL ROH radial distance',c='red',edgecolor='None')\n",
      "ax3.scatter(array_frame_numbers,array_average_CHOL_ROH_radial_distances,label='average CHOL ROH radial distance',c='blue',edgecolor='None')\n",
      "ax3.fill_between(array_frame_numbers,array_average_CHOL_ROH_radial_distances-array_std_dev_CHOL_ROH_radial_distances,array_average_CHOL_ROH_radial_distances+array_std_dev_CHOL_ROH_radial_distances,color='blue',alpha=0.2) #show the standard deviation about the mean CHOL ROH OD values\n",
      "ax3.scatter(array_frame_numbers,array_CHOL_ROH_unbiased_midpoint_distances,label='unbiased CHOL ROH radial midpoints',c='yellow',edgecolor='None')\n",
      "ax3.axvline(x=3000,ymin=0,ymax=1,c='green') #300 ns (3000 frame) equilibration line -- where the holes have sealed and the OD is stable\n",
      "ax3.set_xlim(-900,50000)\n",
      "ax3.set_xlabel('Frame #')\n",
      "ax3.set_ylabel('Radial distance from vesicle centroid (nm)')\n",
      "ax3.legend()\n",
      "ax4 = fig1.add_subplot('324')\n",
      "ax4.scatter(array_frame_numbers,array_CHOL_ROH_percent_above_midpoint_threshold,label='above midpoint',color='orange')\n",
      "ax4.scatter(array_frame_numbers,array_CHOL_ROH_percent_below_midpoint_threshold,label='below midpoint',color='blue')\n",
      "ax4.axvline(x=3000,ymin=0,ymax=1,c='green') #300 ns (3000 frame) equilibration line -- where the holes have sealed and the OD is stable\n",
      "ax4.set_ylabel('Percent CHOL ROH particles above\\n or below midpoint')\n",
      "ax4.set_xlabel('Frame #')\n",
      "ax4.set_xlim(-900,50000)\n",
      "ax4.legend()\n",
      "\n",
      "#now for the remaining headgroup particles (POPS, DOPX/E)\n",
      "array_min_remaining_headgroup_radial_distances = numpy.array(list_min_remaining_headgroup_distances) / 10.\n",
      "array_max_remaining_headgroup_radial_distances = numpy.array(list_max_remaining_headgroup_distances) / 10.\n",
      "array_average_remaining_headgroup_radial_distances = numpy.array(list_average_remaining_headgroup_distances) / 10.\n",
      "array_std_dev_remaining_headgroup_radial_distances = numpy.array(list_std_dev_remaining_headgroup_distances) / 10.\n",
      "array_remaining_headgroup_unbiased_midpoint_distances = numpy.array(list_remaining_headgroup_midpoint_distances) / 10.\n",
      "array_remaining_headgroup_percent_above_midpoint_threshold = numpy.array(list_remaining_headgroup_percent_above_threshold)\n",
      "array_remaining_headgroup_percent_below_midpoint_threshold = numpy.array(list_remaining_headgroup_percent_below_threshold)\n",
      "\n",
      "ax5 = fig1.add_subplot('325')\n",
      "ax5.scatter(array_frame_numbers,array_min_remaining_headgroup_radial_distances,label='min [DOPE/X, POPS] PO4 radial distance',c='black',edgecolor='None')\n",
      "ax5.scatter(array_frame_numbers,array_max_remaining_headgroup_radial_distances,label='max [DOPE/X, POPS] PO4 radial distance',c='red',edgecolor='None')\n",
      "ax5.scatter(array_frame_numbers,array_average_remaining_headgroup_radial_distances,label='average [DOPE/X, POPS] PO4 radial distance',c='blue',edgecolor='None')\n",
      "ax5.fill_between(array_frame_numbers,array_average_remaining_headgroup_radial_distances-array_std_dev_remaining_headgroup_radial_distances,array_average_remaining_headgroup_radial_distances+array_std_dev_remaining_headgroup_radial_distances,color='blue',alpha=0.2) \n",
      "ax5.scatter(array_frame_numbers,array_remaining_headgroup_unbiased_midpoint_distances,label='unbiased [DOPE/X, POPS] PO4 radial midpoints',c='yellow',edgecolor='None')\n",
      "ax5.set_ylabel('Radial distance from vesicle centroid (nm)')\n",
      "ax5.set_xlim(-900,50000)\n",
      "ax5.set_xlabel('Frame #')\n",
      "ax5.axvline(x=3000,ymin=0,ymax=1,c='green') #300 ns (3000 frame) equilibration line -- where the holes have sealed and the OD is stable\n",
      "ax5.legend()\n",
      "ax6 = fig1.add_subplot('326')\n",
      "ax6.scatter(array_frame_numbers,array_remaining_headgroup_percent_above_midpoint_threshold,label='above midpoint',color='orange')\n",
      "ax6.scatter(array_frame_numbers,array_remaining_headgroup_percent_below_midpoint_threshold,label='below midpoint',color='blue')\n",
      "ax6.set_ylabel('Percent [DOPE/X, POPS] PO4 particles above\\n or below midpoint')\n",
      "ax6.set_xlabel('Frame #')\n",
      "ax6.set_xlim(-900,50000)\n",
      "ax6.axvline(x=3000,ymin=0,ymax=1,c='green') #300 ns (3000 frame) equilibration line -- where the holes have sealed and the OD is stable\n",
      "ax6.legend()\n",
      "\n",
      "fig1.set_size_inches(16,24)"
     ],
     "language": "python",
     "metadata": {},
     "outputs": [
      {
       "metadata": {},
       "output_type": "display_data",
       "png": "[encoded data removed]",
       "text": [
        "<matplotlib.figure.Figure at 0x7f5d3eb1aa50>"
       ]
      }
     ],
     "prompt_number": 9
    },
    {
     "cell_type": "markdown",
     "metadata": {},
     "source": [
      "Clearly, we can capture > 98 % of the PPCH PO4 particles by requiring that radial distance exceeds 28.5 nm (just outside 1 standard deviation from the average for PPCH PO4). This isn't surprising given that PPCH was initially placed entirely in the outer leaflet and only a small amount of PPCH flipped to inner leaflet during equilibration. So, one thing we might want to do for the outer leaflet is project all headgroup particles to the average of PPCH PO4. For PPCH PO4, this would mean taking all particles > 28.5 nm and projecting to the average value (to avoid projecting inner leaflet outliers).\n",
      "\n",
      "For CHOL ROH particles I think it is most sensible to use the unbiased midpoint of the max and min radial distances in a given frame as the threshold for determination of leaflet assignment. So, if a CHOL ROH particle falls above the midpoint threshold in a given frame, it should be projected up to the PPCH PO4 average radial distance (and check that there are no steric conflicts after projection).\n",
      "\n",
      "For the minor outer leaflet species (POPS, DOPX, DOPE) it also seems sensible to use an unbiased midpoint cutoff. In a given frame PO4 particles would then be projected up or down to the average value of the appropriate leaflet. My current focus is the outer leaflet where we would probably aim to project everything up to the PPCH PO4 average radial distance (again, need to check for steric conflicts after projection)."
     ]
    },
    {
     "cell_type": "code",
     "collapsed": false,
     "input": [
      "#start drafting analysis code for outer leaflet Voronoi parsing (now trying to expand to innear leaflet)\n",
      "import voronoi_analysis_library\n",
      "PPCH_PO4_selection = flu_vesicle_universe_object.selectAtoms('resname PPCH and name PO4')\n",
      "PPCH_PO4_threshold = 285 #28.5 nm cutoff for outer leaflet assignment (see above)\n",
      "CHOL_ROH_selection = flu_vesicle_universe_object.selectAtoms('resname CHOL and name ROH')\n",
      "DOPX_PO4_selection = flu_vesicle_universe_object.selectAtoms('resname DOPX and name PO4')\n",
      "DOPE_PO4_selection = flu_vesicle_universe_object.selectAtoms('resname DOPE and name PO4')\n",
      "POPS_PO4_selection = flu_vesicle_universe_object.selectAtoms('resname POPS and name PO4')\n",
      "combined_selection_DOPE_DOPX_POPS_PO4 = DOPX_PO4_selection + DOPE_PO4_selection + POPS_PO4_selection\n",
      "all_lipid_selection = flu_vesicle_universe_object.selectAtoms('resname PPCH or resname CHOL or resname POPS or resname DOPX or resname DOPE')\n",
      "dictionary_headgroup_data = {'PPCH':{'selection':PPCH_PO4_selection},'CHOL':{'selection':CHOL_ROH_selection},'DOPX':{'selection':DOPX_PO4_selection},'DOPE':{'selection':DOPE_PO4_selection},'POPS':{'selection':POPS_PO4_selection}}\n",
      "for residue_name, subdictionary in dictionary_headgroup_data.iteritems():\n",
      "    subdictionary['voronoi_cell_avg_values_list'] = []\n",
      "    subdictionary['voronoi_cell_std_values_list'] = []\n",
      "    subdictionary['voronoi_cell_list_vertex_arrays'] = []\n",
      "    #and now for inner leaflet data structures:\n",
      "    subdictionary['voronoi_cell_avg_values_list_inner_leaflet'] = []\n",
      "    subdictionary['voronoi_cell_std_values_list_inner_leaflet'] = []\n",
      "    subdictionary['voronoi_cell_list_vertex_arrays_inner_leaflet'] = []\n",
      "   \n",
      "list_frame_numbers = []\n",
      "list_percent_surface_area_reconstitution = []\n",
      "list_percent_surface_area_reconstitution_inner_leaflet = []"
     ],
     "language": "python",
     "metadata": {},
     "outputs": [],
     "prompt_number": 10
    },
    {
     "cell_type": "code",
     "collapsed": false,
     "input": [
      "%%prun\n",
      "#using very sparse (every 1000th frame) parsing because of poor speed / performance at the moment\n",
      "for ts in flu_vesicle_trajectory[3000:5000:1000]: #every 1000th frame (roughly every 100 ns); start after equil (~300 ns in)\n",
      "    vesicle_centroid = all_lipid_selection.centroid()\n",
      "    PPCH_PO4_coords = dictionary_headgroup_data['PPCH']['selection'].coordinates() - vesicle_centroid\n",
      "    PPCH_PO4_spherical_coords = voronoi_utility.convert_cartesian_array_to_spherical_array(PPCH_PO4_coords)\n",
      "    outer_leaflet_projection_radius = numpy.average(PPCH_PO4_spherical_coords[...,0])\n",
      "    #I think the inner leaflet projection radius should be the average radius of (POPS + DOPE/X) particles that fall below their unbiased midpoint threshold\n",
      "    combined_DOPE_DOPX_POPS_PO4_coords = combined_selection_DOPE_DOPX_POPS_PO4.coordinates() - vesicle_centroid\n",
      "    combined_DOPE_DOPX_POPS_PO4_spherical_coords = voronoi_utility.convert_cartesian_array_to_spherical_array(combined_DOPE_DOPX_POPS_PO4_coords)\n",
      "    max_DOPE_DOPX_POPS_PO4_radial_distance = numpy.sort(combined_DOPE_DOPX_POPS_PO4_spherical_coords[...,0])[-2]\n",
      "    min_DOPE_DOPX_POPS_PO4_radial_distance = combined_DOPE_DOPX_POPS_PO4_spherical_coords[...,0].min()\n",
      "    unbiased_midpoint_radial_distance_DOPE_DOPX_POPS_PO4 = (max_DOPE_DOPX_POPS_PO4_radial_distance + min_DOPE_DOPX_POPS_PO4_radial_distance) / 2.\n",
      "    #print 'unbiased_midpoint_radial_distance_DOPE_DOPX_POPS_PO4:', unbiased_midpoint_radial_distance_DOPE_DOPX_POPS_PO4\n",
      "    inner_leaflet_DOPE_DOPX_POPS_PO4_spherical_coords = combined_DOPE_DOPX_POPS_PO4_spherical_coords[combined_DOPE_DOPX_POPS_PO4_spherical_coords[...,0] < unbiased_midpoint_radial_distance_DOPE_DOPX_POPS_PO4]\n",
      "    inner_leaflet_projection_radius = numpy.average(inner_leaflet_DOPE_DOPX_POPS_PO4_spherical_coords[...,0])\n",
      "    index_counter = 0\n",
      "    inner_leaflet_index_counter = 0\n",
      "    for residue_name, subdictionary in dictionary_headgroup_data.iteritems():\n",
      "        current_headgroup_MDA_selection = subdictionary['selection']\n",
      "        assert current_headgroup_MDA_selection.numberOfAtoms() > 0, \"Number of selected {resname} headgroup particles not greater than 0.\".format(resname=residue_name)\n",
      "        current_headgroup_coordinate_array = current_headgroup_MDA_selection.coordinates()\n",
      "        current_headgroup_coordinate_array -= vesicle_centroid #center at origin\n",
      "        current_headgroup_spherical_polar_coord_array = voronoi_utility.convert_cartesian_array_to_spherical_array(current_headgroup_coordinate_array)\n",
      "        #perform the necessary filtering and projection based on residue type\n",
      "        if residue_name == 'PPCH':\n",
      "            outer_leaflet_spherical_coord_array = current_headgroup_spherical_polar_coord_array[current_headgroup_spherical_polar_coord_array[...,0] > PPCH_PO4_threshold]\n",
      "            outer_leaflet_spherical_coord_array[...,0] = outer_leaflet_projection_radius\n",
      "            inner_leaflet_spherical_coord_array = current_headgroup_spherical_polar_coord_array[current_headgroup_spherical_polar_coord_array[...,0] < PPCH_PO4_threshold]\n",
      "            inner_leaflet_spherical_coord_array[...,0] = inner_leaflet_projection_radius\n",
      "        else: #all other residues use a midpoint filtering method\n",
      "            sorted_radial_distance_array = numpy.sort(current_headgroup_spherical_polar_coord_array[...,0])\n",
      "            conservative_max_value = sorted_radial_distance_array[-2] #avoid floater\n",
      "            conservative_min_value = sorted_radial_distance_array[1] #avoid floater\n",
      "            midpoint_radial_distance = (conservative_min_value + conservative_max_value) / 2.\n",
      "            outer_leaflet_spherical_coord_array = current_headgroup_spherical_polar_coord_array[current_headgroup_spherical_polar_coord_array[...,0] > midpoint_radial_distance]\n",
      "            outer_leaflet_spherical_coord_array[...,0] = outer_leaflet_projection_radius\n",
      "            inner_leaflet_spherical_coord_array = current_headgroup_spherical_polar_coord_array[current_headgroup_spherical_polar_coord_array[...,0] < midpoint_radial_distance]\n",
      "            inner_leaflet_spherical_coord_array[...,0] = inner_leaflet_projection_radius\n",
      "        \n",
      "        \n",
      "        if index_counter == 0: #initialize the projected outer leaflet coord array rather than concatenating for first residue type\n",
      "            projected_outer_leaflet_coordinate_array = voronoi_utility.convert_spherical_array_to_cartesian_array(outer_leaflet_spherical_coord_array)\n",
      "        else:\n",
      "            projected_outer_leaflet_coordinate_array = numpy.concatenate((projected_outer_leaflet_coordinate_array,voronoi_utility.convert_spherical_array_to_cartesian_array(outer_leaflet_spherical_coord_array)))\n",
      "        #also need to track the coordinate indices for data structure management with Voronoi code (i.e., which cell areas correspond to which residue types)\n",
      "        dictionary_headgroup_data[residue_name]['start_index'] = index_counter\n",
      "        dictionary_headgroup_data[residue_name]['end_index'] = index_counter + outer_leaflet_spherical_coord_array.shape[0]\n",
      "        index_counter += outer_leaflet_spherical_coord_array.shape[0]\n",
      "        \n",
      "        \n",
      "        if inner_leaflet_index_counter == 0: \n",
      "            projected_inner_leaflet_coordinate_array = voronoi_utility.convert_spherical_array_to_cartesian_array(inner_leaflet_spherical_coord_array)\n",
      "        else:\n",
      "            projected_inner_leaflet_coordinate_array = numpy.concatenate((projected_inner_leaflet_coordinate_array,voronoi_utility.convert_spherical_array_to_cartesian_array(inner_leaflet_spherical_coord_array)))\n",
      "        dictionary_headgroup_data[residue_name]['inner_leaflet_start_index'] = inner_leaflet_index_counter\n",
      "        dictionary_headgroup_data[residue_name]['inner_leaflet_end_index'] = inner_leaflet_index_counter + inner_leaflet_spherical_coord_array.shape[0]\n",
      "        inner_leaflet_index_counter += inner_leaflet_spherical_coord_array.shape[0]\n",
      "        \n",
      "    #with the index ranges stored in the dictionary and projected outer leaflet coordinates available I think it is reasonable to start the spherical Voronoi analysis\n",
      "    voronoi_instance = voronoi_utility.Voronoi_Sphere_Surface(projected_outer_leaflet_coordinate_array,outer_leaflet_projection_radius)\n",
      "    inner_leaflet_voronoi_instance = voronoi_utility.Voronoi_Sphere_Surface(projected_inner_leaflet_coordinate_array,inner_leaflet_projection_radius)\n",
      "    dictionary_voronoi_polygon_surface_areas = voronoi_instance.voronoi_region_surface_areas_spherical_surface()\n",
      "    dictionary_voronoi_polygon_surface_areas_inner_leaflet = inner_leaflet_voronoi_instance.voronoi_region_surface_areas_spherical_surface()\n",
      "    dictionary_voronoi_polygon_vertices = voronoi_instance.voronoi_region_vertices_spherical_surface() #for sample plotting Voronoi diagrams\n",
      "    dictionary_voronoi_polygon_vertices_inner_leaflet = inner_leaflet_voronoi_instance.voronoi_region_vertices_spherical_surface() #for sample plotting Voronoi diagrams\n",
      "    frame_number = ts.frame\n",
      "    theoretical_surface_area = voronoi_analysis_library.calculate_surface_area_sphere(outer_leaflet_projection_radius)\n",
      "    theoretical_surface_area_inner_leaflet = voronoi_analysis_library.calculate_surface_area_sphere(inner_leaflet_projection_radius)\n",
      "    percent_surface_area_reconstitution = (sum(dictionary_voronoi_polygon_surface_areas.itervalues()) / theoretical_surface_area) * 100.\n",
      "    percent_surface_area_reconstitution_inner_leaflet = (sum(dictionary_voronoi_polygon_surface_areas_inner_leaflet.itervalues()) / theoretical_surface_area_inner_leaflet) * 100.\n",
      "    list_frame_numbers.append(frame_number)\n",
      "    list_percent_surface_area_reconstitution.append(percent_surface_area_reconstitution)\n",
      "    list_percent_surface_area_reconstitution_inner_leaflet.append(percent_surface_area_reconstitution_inner_leaflet)\n",
      "    #now try to slot the Voronoi cell surface area data into the appropriate dictionary entries based on index values\n",
      "    for residue_name, subdictionary in dictionary_headgroup_data.iteritems():\n",
      "        voronoi_cell_surface_area_list = [] \n",
      "        voronoi_cell_surface_area_list_inner_leaflet = [] \n",
      "        list_arrays_Voronoi_cells = [] #for plotting purposes\n",
      "        list_arrays_Voronoi_cells_inner_leaflet = [] #for plotting purposes\n",
      "        start_index = subdictionary['start_index']\n",
      "        end_index = subdictionary['end_index']\n",
      "        inner_leaflet_start_index = subdictionary['inner_leaflet_start_index']\n",
      "        inner_leaflet_end_index = subdictionary['inner_leaflet_end_index']\n",
      "        #outer leaflet:\n",
      "        voronoi_analysis_library.populate_dictionary_with_spherical_Voronoi_data(dict_Voronoi_cell_surface_areas=dictionary_voronoi_polygon_surface_areas,start_index=start_index,end_index=end_index,Voronoi_cell_surface_area_list=voronoi_cell_surface_area_list,dict_Voronoi_polygon_vertices=dictionary_voronoi_polygon_vertices,list_arrays_Voronoi_cells=list_arrays_Voronoi_cells,subdictionary_object=subdictionary,subdictionary_key_avg_surface_area='voronoi_cell_avg_values_list',subdictionary_key_std_surface_area='voronoi_cell_std_values_list',subdictionary_key_vertex_arrays='voronoi_cell_list_vertex_arrays')\n",
      "        #inner leaflet:\n",
      "        voronoi_analysis_library.populate_dictionary_with_spherical_Voronoi_data(dict_Voronoi_cell_surface_areas=dictionary_voronoi_polygon_surface_areas_inner_leaflet,start_index=inner_leaflet_start_index,end_index=inner_leaflet_end_index,Voronoi_cell_surface_area_list=voronoi_cell_surface_area_list_inner_leaflet,dict_Voronoi_polygon_vertices=dictionary_voronoi_polygon_vertices_inner_leaflet,list_arrays_Voronoi_cells=list_arrays_Voronoi_cells_inner_leaflet,subdictionary_object=subdictionary,subdictionary_key_avg_surface_area='voronoi_cell_avg_values_list_inner_leaflet',subdictionary_key_std_surface_area='voronoi_cell_std_values_list_inner_leaflet',subdictionary_key_vertex_arrays='voronoi_cell_list_vertex_arrays_inner_leaflet')\n",
      "        \n",
      "    print 'frame:', frame_number"
     ],
     "language": "python",
     "metadata": {},
     "outputs": [
      {
       "output_type": "stream",
       "stream": "stdout",
       "text": [
        "frame: 3001\n",
        "frame:"
       ]
      },
      {
       "output_type": "stream",
       "stream": "stdout",
       "text": [
        " 4001\n",
        " "
       ]
      }
     ],
     "prompt_number": 64
    },
    {
     "cell_type": "code",
     "collapsed": false,
     "input": [
      "#rough profiling work / notes for slow block of code above (for parsing of frames 3001 and 4001 only):\n",
      "#12/16 5:25 pm; 505.725 seconds total\n",
      "#12/16 6:11 pm; 501.00 seconds total\n",
      "#12/16 6:26 pm; 507.358 seconds total (but the function I'm optimizing got faster--so other things on hpslu going on, etc.)\n",
      "#12/18 3:10 pm; 413.789 seconds total (and > 2 orders of magnitude performance improvement for produce_array_Voronoi_vertices_on_sphere_surface() function I've been optimizing) \n",
      "#12/19 6:15pm; 924.531 seconds total (working to vectorize voronoi_region_vertices_spherical_surface(), but not done yet,hopefully only the intermediate state is slower)\n",
      "#12/22 5:30pm; 849.209 seconds total (still working to vectorize above function)\n",
      "#12/23 7:55pm; 787.336 seconds total (still working to vectorize above function)\n",
      "#12/27 6:54 pm; 749.333 seconds total (still working to vectorize above function)\n"
     ],
     "language": "python",
     "metadata": {},
     "outputs": [],
     "prompt_number": 65
    },
    {
     "cell_type": "code",
     "collapsed": false,
     "input": [
      "#more scratch space for benchmarking data\n",
      "#currently trying to optimize voronoi_region_vertices_spherical_surface() [L391 at the moment] in voronoi_utility.py module;\n",
      "#               ncalls  tottime  percall  cumtime  percall filename:lineno(function)\n",
      "#12/19 9:21am;      8   35.786    4.473  358.471   44.809 voronoi_utility.py:391(voronoi_region_vertices_spherical_surface)\n",
      "#12/19 6:15pm;      8  132.914   16.614  868.317  108.540 voronoi_utility.py:390(voronoi_region_vertices_spherical_surface)\n",
      "#12/22 5:34 pm;     8   64.121    8.015  792.557   99.070 voronoi_utility.py:390(voronoi_region_vertices_spherical_surface)\n",
      "#12/23 7:55pm;      8  128.927   16.116  731.104   91.388 voronoi_utility.py:391(voronoi_region_vertices_spherical_surface)\n",
      "#12/27 6:54 pm;     8  115.030   14.379  692.901   86.613 voronoi_utility.py:391(voronoi_region_vertices_spherical_surface)"
     ],
     "language": "python",
     "metadata": {},
     "outputs": [],
     "prompt_number": 67
    },
    {
     "cell_type": "code",
     "collapsed": false,
     "input": [
      "#the above cell calculation is extremely slow at the moment so I'd like to pickle a relevant data structure as partial insurance against kernel crashes:\n",
      "import pickle\n",
      "pickle.dump(dictionary_headgroup_data,open('dictionary_headgroup_data_flu_vesicle.p','wb')) #this isn't working!!"
     ],
     "language": "python",
     "metadata": {},
     "outputs": [
      {
       "ename": "NotImplementedError",
       "evalue": "",
       "output_type": "pyerr",
       "traceback": [
        "\u001b[1;31m---------------------------------------------------------------------------\u001b[0m\n\u001b[1;31mNotImplementedError\u001b[0m                       Traceback (most recent call last)",
        "\u001b[1;32m<ipython-input-12-df84494fe7ef>\u001b[0m in \u001b[0;36m<module>\u001b[1;34m()\u001b[0m\n\u001b[0;32m      1\u001b[0m \u001b[1;31m#the above cell calculation is extremely slow at the moment so I'd like to pickle a relevant data structure as partial insurance against kernel crashes:\u001b[0m\u001b[1;33m\u001b[0m\u001b[1;33m\u001b[0m\u001b[0m\n\u001b[0;32m      2\u001b[0m \u001b[1;32mimport\u001b[0m \u001b[0mpickle\u001b[0m\u001b[1;33m\u001b[0m\u001b[0m\n\u001b[1;32m----> 3\u001b[1;33m \u001b[0mpickle\u001b[0m\u001b[1;33m.\u001b[0m\u001b[0mdump\u001b[0m\u001b[1;33m(\u001b[0m\u001b[0mdictionary_headgroup_data\u001b[0m\u001b[1;33m,\u001b[0m\u001b[0mopen\u001b[0m\u001b[1;33m(\u001b[0m\u001b[1;34m'dictionary_headgroup_data_flu_vesicle.p'\u001b[0m\u001b[1;33m,\u001b[0m\u001b[1;34m'wb'\u001b[0m\u001b[1;33m)\u001b[0m\u001b[1;33m)\u001b[0m\u001b[1;33m\u001b[0m\u001b[0m\n\u001b[0m",
        "\u001b[1;32m/sansom/n22/bioc1009/anaconda_python/anaconda/lib/python2.7/pickle.pyc\u001b[0m in \u001b[0;36mdump\u001b[1;34m(obj, file, protocol)\u001b[0m\n\u001b[0;32m   1368\u001b[0m \u001b[1;33m\u001b[0m\u001b[0m\n\u001b[0;32m   1369\u001b[0m \u001b[1;32mdef\u001b[0m \u001b[0mdump\u001b[0m\u001b[1;33m(\u001b[0m\u001b[0mobj\u001b[0m\u001b[1;33m,\u001b[0m \u001b[0mfile\u001b[0m\u001b[1;33m,\u001b[0m \u001b[0mprotocol\u001b[0m\u001b[1;33m=\u001b[0m\u001b[0mNone\u001b[0m\u001b[1;33m)\u001b[0m\u001b[1;33m:\u001b[0m\u001b[1;33m\u001b[0m\u001b[0m\n\u001b[1;32m-> 1370\u001b[1;33m     \u001b[0mPickler\u001b[0m\u001b[1;33m(\u001b[0m\u001b[0mfile\u001b[0m\u001b[1;33m,\u001b[0m \u001b[0mprotocol\u001b[0m\u001b[1;33m)\u001b[0m\u001b[1;33m.\u001b[0m\u001b[0mdump\u001b[0m\u001b[1;33m(\u001b[0m\u001b[0mobj\u001b[0m\u001b[1;33m)\u001b[0m\u001b[1;33m\u001b[0m\u001b[0m\n\u001b[0m\u001b[0;32m   1371\u001b[0m \u001b[1;33m\u001b[0m\u001b[0m\n\u001b[0;32m   1372\u001b[0m \u001b[1;32mdef\u001b[0m \u001b[0mdumps\u001b[0m\u001b[1;33m(\u001b[0m\u001b[0mobj\u001b[0m\u001b[1;33m,\u001b[0m \u001b[0mprotocol\u001b[0m\u001b[1;33m=\u001b[0m\u001b[0mNone\u001b[0m\u001b[1;33m)\u001b[0m\u001b[1;33m:\u001b[0m\u001b[1;33m\u001b[0m\u001b[0m\n",
        "\u001b[1;32m/sansom/n22/bioc1009/anaconda_python/anaconda/lib/python2.7/pickle.pyc\u001b[0m in \u001b[0;36mdump\u001b[1;34m(self, obj)\u001b[0m\n\u001b[0;32m    222\u001b[0m         \u001b[1;32mif\u001b[0m \u001b[0mself\u001b[0m\u001b[1;33m.\u001b[0m\u001b[0mproto\u001b[0m \u001b[1;33m>=\u001b[0m \u001b[1;36m2\u001b[0m\u001b[1;33m:\u001b[0m\u001b[1;33m\u001b[0m\u001b[0m\n\u001b[0;32m    223\u001b[0m             \u001b[0mself\u001b[0m\u001b[1;33m.\u001b[0m\u001b[0mwrite\u001b[0m\u001b[1;33m(\u001b[0m\u001b[0mPROTO\u001b[0m \u001b[1;33m+\u001b[0m \u001b[0mchr\u001b[0m\u001b[1;33m(\u001b[0m\u001b[0mself\u001b[0m\u001b[1;33m.\u001b[0m\u001b[0mproto\u001b[0m\u001b[1;33m)\u001b[0m\u001b[1;33m)\u001b[0m\u001b[1;33m\u001b[0m\u001b[0m\n\u001b[1;32m--> 224\u001b[1;33m         \u001b[0mself\u001b[0m\u001b[1;33m.\u001b[0m\u001b[0msave\u001b[0m\u001b[1;33m(\u001b[0m\u001b[0mobj\u001b[0m\u001b[1;33m)\u001b[0m\u001b[1;33m\u001b[0m\u001b[0m\n\u001b[0m\u001b[0;32m    225\u001b[0m         \u001b[0mself\u001b[0m\u001b[1;33m.\u001b[0m\u001b[0mwrite\u001b[0m\u001b[1;33m(\u001b[0m\u001b[0mSTOP\u001b[0m\u001b[1;33m)\u001b[0m\u001b[1;33m\u001b[0m\u001b[0m\n\u001b[0;32m    226\u001b[0m \u001b[1;33m\u001b[0m\u001b[0m\n",
        "\u001b[1;32m/sansom/n22/bioc1009/anaconda_python/anaconda/lib/python2.7/pickle.pyc\u001b[0m in \u001b[0;36msave\u001b[1;34m(self, obj)\u001b[0m\n\u001b[0;32m    284\u001b[0m         \u001b[0mf\u001b[0m \u001b[1;33m=\u001b[0m \u001b[0mself\u001b[0m\u001b[1;33m.\u001b[0m\u001b[0mdispatch\u001b[0m\u001b[1;33m.\u001b[0m\u001b[0mget\u001b[0m\u001b[1;33m(\u001b[0m\u001b[0mt\u001b[0m\u001b[1;33m)\u001b[0m\u001b[1;33m\u001b[0m\u001b[0m\n\u001b[0;32m    285\u001b[0m         \u001b[1;32mif\u001b[0m \u001b[0mf\u001b[0m\u001b[1;33m:\u001b[0m\u001b[1;33m\u001b[0m\u001b[0m\n\u001b[1;32m--> 286\u001b[1;33m             \u001b[0mf\u001b[0m\u001b[1;33m(\u001b[0m\u001b[0mself\u001b[0m\u001b[1;33m,\u001b[0m \u001b[0mobj\u001b[0m\u001b[1;33m)\u001b[0m \u001b[1;31m# Call unbound method with explicit self\u001b[0m\u001b[1;33m\u001b[0m\u001b[0m\n\u001b[0m\u001b[0;32m    287\u001b[0m             \u001b[1;32mreturn\u001b[0m\u001b[1;33m\u001b[0m\u001b[0m\n\u001b[0;32m    288\u001b[0m \u001b[1;33m\u001b[0m\u001b[0m\n",
        "\u001b[1;32m/sansom/n22/bioc1009/anaconda_python/anaconda/lib/python2.7/pickle.pyc\u001b[0m in \u001b[0;36msave_dict\u001b[1;34m(self, obj)\u001b[0m\n\u001b[0;32m    647\u001b[0m \u001b[1;33m\u001b[0m\u001b[0m\n\u001b[0;32m    648\u001b[0m         \u001b[0mself\u001b[0m\u001b[1;33m.\u001b[0m\u001b[0mmemoize\u001b[0m\u001b[1;33m(\u001b[0m\u001b[0mobj\u001b[0m\u001b[1;33m)\u001b[0m\u001b[1;33m\u001b[0m\u001b[0m\n\u001b[1;32m--> 649\u001b[1;33m         \u001b[0mself\u001b[0m\u001b[1;33m.\u001b[0m\u001b[0m_batch_setitems\u001b[0m\u001b[1;33m(\u001b[0m\u001b[0mobj\u001b[0m\u001b[1;33m.\u001b[0m\u001b[0miteritems\u001b[0m\u001b[1;33m(\u001b[0m\u001b[1;33m)\u001b[0m\u001b[1;33m)\u001b[0m\u001b[1;33m\u001b[0m\u001b[0m\n\u001b[0m\u001b[0;32m    650\u001b[0m \u001b[1;33m\u001b[0m\u001b[0m\n\u001b[0;32m    651\u001b[0m     \u001b[0mdispatch\u001b[0m\u001b[1;33m[\u001b[0m\u001b[0mDictionaryType\u001b[0m\u001b[1;33m]\u001b[0m \u001b[1;33m=\u001b[0m \u001b[0msave_dict\u001b[0m\u001b[1;33m\u001b[0m\u001b[0m\n",
        "\u001b[1;32m/sansom/n22/bioc1009/anaconda_python/anaconda/lib/python2.7/pickle.pyc\u001b[0m in \u001b[0;36m_batch_setitems\u001b[1;34m(self, items)\u001b[0m\n\u001b[0;32m    661\u001b[0m             \u001b[1;32mfor\u001b[0m \u001b[0mk\u001b[0m\u001b[1;33m,\u001b[0m \u001b[0mv\u001b[0m \u001b[1;32min\u001b[0m \u001b[0mitems\u001b[0m\u001b[1;33m:\u001b[0m\u001b[1;33m\u001b[0m\u001b[0m\n\u001b[0;32m    662\u001b[0m                 \u001b[0msave\u001b[0m\u001b[1;33m(\u001b[0m\u001b[0mk\u001b[0m\u001b[1;33m)\u001b[0m\u001b[1;33m\u001b[0m\u001b[0m\n\u001b[1;32m--> 663\u001b[1;33m                 \u001b[0msave\u001b[0m\u001b[1;33m(\u001b[0m\u001b[0mv\u001b[0m\u001b[1;33m)\u001b[0m\u001b[1;33m\u001b[0m\u001b[0m\n\u001b[0m\u001b[0;32m    664\u001b[0m                 \u001b[0mwrite\u001b[0m\u001b[1;33m(\u001b[0m\u001b[0mSETITEM\u001b[0m\u001b[1;33m)\u001b[0m\u001b[1;33m\u001b[0m\u001b[0m\n\u001b[0;32m    665\u001b[0m             \u001b[1;32mreturn\u001b[0m\u001b[1;33m\u001b[0m\u001b[0m\n",
        "\u001b[1;32m/sansom/n22/bioc1009/anaconda_python/anaconda/lib/python2.7/pickle.pyc\u001b[0m in \u001b[0;36msave\u001b[1;34m(self, obj)\u001b[0m\n\u001b[0;32m    284\u001b[0m         \u001b[0mf\u001b[0m \u001b[1;33m=\u001b[0m \u001b[0mself\u001b[0m\u001b[1;33m.\u001b[0m\u001b[0mdispatch\u001b[0m\u001b[1;33m.\u001b[0m\u001b[0mget\u001b[0m\u001b[1;33m(\u001b[0m\u001b[0mt\u001b[0m\u001b[1;33m)\u001b[0m\u001b[1;33m\u001b[0m\u001b[0m\n\u001b[0;32m    285\u001b[0m         \u001b[1;32mif\u001b[0m \u001b[0mf\u001b[0m\u001b[1;33m:\u001b[0m\u001b[1;33m\u001b[0m\u001b[0m\n\u001b[1;32m--> 286\u001b[1;33m             \u001b[0mf\u001b[0m\u001b[1;33m(\u001b[0m\u001b[0mself\u001b[0m\u001b[1;33m,\u001b[0m \u001b[0mobj\u001b[0m\u001b[1;33m)\u001b[0m \u001b[1;31m# Call unbound method with explicit self\u001b[0m\u001b[1;33m\u001b[0m\u001b[0m\n\u001b[0m\u001b[0;32m    287\u001b[0m             \u001b[1;32mreturn\u001b[0m\u001b[1;33m\u001b[0m\u001b[0m\n\u001b[0;32m    288\u001b[0m \u001b[1;33m\u001b[0m\u001b[0m\n",
        "\u001b[1;32m/sansom/n22/bioc1009/anaconda_python/anaconda/lib/python2.7/pickle.pyc\u001b[0m in \u001b[0;36msave_dict\u001b[1;34m(self, obj)\u001b[0m\n\u001b[0;32m    647\u001b[0m \u001b[1;33m\u001b[0m\u001b[0m\n\u001b[0;32m    648\u001b[0m         \u001b[0mself\u001b[0m\u001b[1;33m.\u001b[0m\u001b[0mmemoize\u001b[0m\u001b[1;33m(\u001b[0m\u001b[0mobj\u001b[0m\u001b[1;33m)\u001b[0m\u001b[1;33m\u001b[0m\u001b[0m\n\u001b[1;32m--> 649\u001b[1;33m         \u001b[0mself\u001b[0m\u001b[1;33m.\u001b[0m\u001b[0m_batch_setitems\u001b[0m\u001b[1;33m(\u001b[0m\u001b[0mobj\u001b[0m\u001b[1;33m.\u001b[0m\u001b[0miteritems\u001b[0m\u001b[1;33m(\u001b[0m\u001b[1;33m)\u001b[0m\u001b[1;33m)\u001b[0m\u001b[1;33m\u001b[0m\u001b[0m\n\u001b[0m\u001b[0;32m    650\u001b[0m \u001b[1;33m\u001b[0m\u001b[0m\n\u001b[0;32m    651\u001b[0m     \u001b[0mdispatch\u001b[0m\u001b[1;33m[\u001b[0m\u001b[0mDictionaryType\u001b[0m\u001b[1;33m]\u001b[0m \u001b[1;33m=\u001b[0m \u001b[0msave_dict\u001b[0m\u001b[1;33m\u001b[0m\u001b[0m\n",
        "\u001b[1;32m/sansom/n22/bioc1009/anaconda_python/anaconda/lib/python2.7/pickle.pyc\u001b[0m in \u001b[0;36m_batch_setitems\u001b[1;34m(self, items)\u001b[0m\n\u001b[0;32m    661\u001b[0m             \u001b[1;32mfor\u001b[0m \u001b[0mk\u001b[0m\u001b[1;33m,\u001b[0m \u001b[0mv\u001b[0m \u001b[1;32min\u001b[0m \u001b[0mitems\u001b[0m\u001b[1;33m:\u001b[0m\u001b[1;33m\u001b[0m\u001b[0m\n\u001b[0;32m    662\u001b[0m                 \u001b[0msave\u001b[0m\u001b[1;33m(\u001b[0m\u001b[0mk\u001b[0m\u001b[1;33m)\u001b[0m\u001b[1;33m\u001b[0m\u001b[0m\n\u001b[1;32m--> 663\u001b[1;33m                 \u001b[0msave\u001b[0m\u001b[1;33m(\u001b[0m\u001b[0mv\u001b[0m\u001b[1;33m)\u001b[0m\u001b[1;33m\u001b[0m\u001b[0m\n\u001b[0m\u001b[0;32m    664\u001b[0m                 \u001b[0mwrite\u001b[0m\u001b[1;33m(\u001b[0m\u001b[0mSETITEM\u001b[0m\u001b[1;33m)\u001b[0m\u001b[1;33m\u001b[0m\u001b[0m\n\u001b[0;32m    665\u001b[0m             \u001b[1;32mreturn\u001b[0m\u001b[1;33m\u001b[0m\u001b[0m\n",
        "\u001b[1;32m/sansom/n22/bioc1009/anaconda_python/anaconda/lib/python2.7/pickle.pyc\u001b[0m in \u001b[0;36msave\u001b[1;34m(self, obj)\u001b[0m\n\u001b[0;32m    304\u001b[0m             \u001b[0mreduce\u001b[0m \u001b[1;33m=\u001b[0m \u001b[0mgetattr\u001b[0m\u001b[1;33m(\u001b[0m\u001b[0mobj\u001b[0m\u001b[1;33m,\u001b[0m \u001b[1;34m\"__reduce_ex__\"\u001b[0m\u001b[1;33m,\u001b[0m \u001b[0mNone\u001b[0m\u001b[1;33m)\u001b[0m\u001b[1;33m\u001b[0m\u001b[0m\n\u001b[0;32m    305\u001b[0m             \u001b[1;32mif\u001b[0m \u001b[0mreduce\u001b[0m\u001b[1;33m:\u001b[0m\u001b[1;33m\u001b[0m\u001b[0m\n\u001b[1;32m--> 306\u001b[1;33m                 \u001b[0mrv\u001b[0m \u001b[1;33m=\u001b[0m \u001b[0mreduce\u001b[0m\u001b[1;33m(\u001b[0m\u001b[0mself\u001b[0m\u001b[1;33m.\u001b[0m\u001b[0mproto\u001b[0m\u001b[1;33m)\u001b[0m\u001b[1;33m\u001b[0m\u001b[0m\n\u001b[0m\u001b[0;32m    307\u001b[0m             \u001b[1;32melse\u001b[0m\u001b[1;33m:\u001b[0m\u001b[1;33m\u001b[0m\u001b[0m\n\u001b[0;32m    308\u001b[0m                 \u001b[0mreduce\u001b[0m \u001b[1;33m=\u001b[0m \u001b[0mgetattr\u001b[0m\u001b[1;33m(\u001b[0m\u001b[0mobj\u001b[0m\u001b[1;33m,\u001b[0m \u001b[1;34m\"__reduce__\"\u001b[0m\u001b[1;33m,\u001b[0m \u001b[0mNone\u001b[0m\u001b[1;33m)\u001b[0m\u001b[1;33m\u001b[0m\u001b[0m\n",
        "\u001b[1;32m/sansom/n22/bioc1009/anaconda_python/anaconda/lib/python2.7/copy_reg.pyc\u001b[0m in \u001b[0;36m_reduce_ex\u001b[1;34m(self, proto)\u001b[0m\n\u001b[0;32m     82\u001b[0m             \u001b[0mdict\u001b[0m \u001b[1;33m=\u001b[0m \u001b[0mNone\u001b[0m\u001b[1;33m\u001b[0m\u001b[0m\n\u001b[0;32m     83\u001b[0m     \u001b[1;32melse\u001b[0m\u001b[1;33m:\u001b[0m\u001b[1;33m\u001b[0m\u001b[0m\n\u001b[1;32m---> 84\u001b[1;33m         \u001b[0mdict\u001b[0m \u001b[1;33m=\u001b[0m \u001b[0mgetstate\u001b[0m\u001b[1;33m(\u001b[0m\u001b[1;33m)\u001b[0m\u001b[1;33m\u001b[0m\u001b[0m\n\u001b[0m\u001b[0;32m     85\u001b[0m     \u001b[1;32mif\u001b[0m \u001b[0mdict\u001b[0m\u001b[1;33m:\u001b[0m\u001b[1;33m\u001b[0m\u001b[0m\n\u001b[0;32m     86\u001b[0m         \u001b[1;32mreturn\u001b[0m \u001b[0m_reconstructor\u001b[0m\u001b[1;33m,\u001b[0m \u001b[0margs\u001b[0m\u001b[1;33m,\u001b[0m \u001b[0mdict\u001b[0m\u001b[1;33m\u001b[0m\u001b[0m\n",
        "\u001b[1;32m/sansom/sc2/bioc1009/.local/lib/python2.7/site-packages/MDAnalysis-0.8.2_dev-py2.7-linux-x86_64.egg/MDAnalysis/core/AtomGroup.pyc\u001b[0m in \u001b[0;36m__getstate__\u001b[1;34m(self)\u001b[0m\n\u001b[0;32m    729\u001b[0m \u001b[1;33m\u001b[0m\u001b[0m\n\u001b[0;32m    730\u001b[0m     \u001b[1;32mdef\u001b[0m \u001b[0m__getstate__\u001b[0m\u001b[1;33m(\u001b[0m\u001b[0mself\u001b[0m\u001b[1;33m)\u001b[0m\u001b[1;33m:\u001b[0m\u001b[1;33m\u001b[0m\u001b[0m\n\u001b[1;32m--> 731\u001b[1;33m         \u001b[1;32mraise\u001b[0m \u001b[0mNotImplementedError\u001b[0m\u001b[1;33m\u001b[0m\u001b[0m\n\u001b[0m\u001b[0;32m    732\u001b[0m \u001b[1;33m\u001b[0m\u001b[0m\n\u001b[0;32m    733\u001b[0m     \u001b[1;32mdef\u001b[0m \u001b[0m__setstate__\u001b[0m\u001b[1;33m(\u001b[0m\u001b[0mself\u001b[0m\u001b[1;33m,\u001b[0m \u001b[0mstate\u001b[0m\u001b[1;33m)\u001b[0m\u001b[1;33m:\u001b[0m\u001b[1;33m\u001b[0m\u001b[0m\n",
        "\u001b[1;31mNotImplementedError\u001b[0m: "
       ]
      }
     ],
     "prompt_number": 12
    },
    {
     "cell_type": "code",
     "collapsed": false,
     "input": [
      "#start plotting test vesicle outer leaflet voronoi analysis results from above (now working to add inner leaflet results as well)\n",
      "\n",
      "fig2 = plt.figure()\n",
      "ax = fig2.add_subplot('221')\n",
      "array_time_values = numpy.array(list_frame_numbers) / 10000. #microseconds\n",
      "array_percent_surface_area_reconstitution = numpy.array(list_percent_surface_area_reconstitution)\n",
      "ax.scatter(array_time_values,array_percent_surface_area_reconstitution,c='black',edgecolor='None')\n",
      "ax.set_ylim(90,101)\n",
      "ax.set_xlim(0,5)\n",
      "ax.set_ylabel('Percent surface area reconstitution from Voronoi cells')\n",
      "ax.set_xlabel('Time ($\\mu$s)')\n",
      "ax.set_title('% Surface Area Reconstitution for Voronoi cells\\n of vesicle outer leaflet')\n",
      "\n",
      "ax3 = fig2.add_subplot('223')\n",
      "array_percent_surface_area_reconstitution_inner_leaflet = numpy.array(list_percent_surface_area_reconstitution_inner_leaflet)\n",
      "ax3.scatter(array_time_values,array_percent_surface_area_reconstitution_inner_leaflet,c='black',edgecolor='None')\n",
      "ax3.set_ylim(90,101)\n",
      "ax3.set_xlim(0,5)\n",
      "ax3.set_ylabel('Percent surface area reconstitution from Voronoi cells')\n",
      "ax3.set_xlabel('Time ($\\mu$s)')\n",
      "ax3.set_title('% Surface Area Reconstitution for Voronoi cells\\n of vesicle inner leaflet')\n",
      "\n",
      "ax2 = fig2.add_subplot('222')\n",
      "color_list = ['black','blue','green','red','purple']\n",
      "index = 0\n",
      "for residue_name, subdictionary in dictionary_headgroup_data.iteritems():\n",
      "    color = color_list[index]\n",
      "    array_voronoi_cell_areas = numpy.array(subdictionary['voronoi_cell_avg_values_list'])\n",
      "    array_voronoi_cell_std_dev = numpy.array(subdictionary['voronoi_cell_std_values_list'])\n",
      "    ax2.scatter(array_time_values,array_voronoi_cell_areas,label=residue_name,edgecolor='None',color=color)\n",
      "    #ax2.fill_between(array_frame_numbers,array_voronoi_cell_areas-array_voronoi_cell_std_dev,array_voronoi_cell_areas+array_voronoi_cell_std_dev,color=color,alpha=0.2) \n",
      "    index += 1\n",
      "ax2.legend()\n",
      "ax2.set_ylabel('Average area per lipid ($\\AA^2$)')\n",
      "ax2.set_xlim(0,5)\n",
      "ax2.set_xlabel('Time ($\\mu$s)')\n",
      "ax2.set_title('Area per molecule in flu vesicle outer leaflet')\n",
      "ax2.set_ylim(34,54)\n",
      "\n",
      "ax4 = fig2.add_subplot('224')\n",
      "index = 0\n",
      "for residue_name, subdictionary in dictionary_headgroup_data.iteritems():\n",
      "    color = color_list[index]\n",
      "    array_voronoi_cell_areas = numpy.array(subdictionary['voronoi_cell_avg_values_list_inner_leaflet'])\n",
      "    array_voronoi_cell_std_dev = numpy.array(subdictionary['voronoi_cell_std_values_list_inner_leaflet'])\n",
      "    ax4.scatter(array_time_values,array_voronoi_cell_areas,label=residue_name,edgecolor='None',color=color)\n",
      "    #ax2.fill_between(array_frame_numbers,array_voronoi_cell_areas-array_voronoi_cell_std_dev,array_voronoi_cell_areas+array_voronoi_cell_std_dev,color=color,alpha=0.2) \n",
      "    index += 1\n",
      "ax4.legend()\n",
      "ax4.set_ylabel('Average area per lipid ($\\AA^2$)')\n",
      "ax4.set_xlim(0,5)\n",
      "ax4.set_xlabel('Time ($\\mu$s)')\n",
      "ax4.set_title('Area per molecule in flu vesicle inner leaflet')\n",
      "ax4.set_ylim(34,54)\n",
      "\n",
      "\n",
      "\n",
      "fig2.set_size_inches(20,14)"
     ],
     "language": "python",
     "metadata": {},
     "outputs": [
      {
       "metadata": {},
       "output_type": "display_data",
       "png": "[encoded data removed]",
       "text": [
        "<matplotlib.figure.Figure at 0x7f1111798390>"
       ]
      }
     ],
     "prompt_number": 13
    },
    {
     "cell_type": "markdown",
     "metadata": {},
     "source": [
      "The above plots are a good start for the flu vesicle outer leaflet voronoi parsing. The area per molecule values look more reasonable now. For example, previous DPD simulations for CHOL gave an area of 40.3 A$^2$ (de Meyer and Smit, 2009), and previous monolayer experiments produced an area of 41 A$^2$ for CHOL (Brzozowska and Figaszewski, 2002). Note that the area per molecule plot isn't currently displaying the standard deviations values, which are very large. That might be something to investigate.\n",
      "\n",
      "The flu vesicle inner leaflet results are now included as well. As with the outer leaflet, the % surface area reconstitution from the Voronoi cells is excellent. The area per molecule for the inner leaflet shows evidence of really tight packing -- CHOL is well below the usual ~40 A$^2$ value, and all lipids seem to be dipping to tighter packing over the course of the 5 $\\mu$s simulation. While one might argue that this is evidence that the system has not equilibrated, there is little we can do about this because of the computational cost of the simulations (and most biophysical parameters did appear to be stable). As with the outer leaflet, it will likely eventually be of interest to investigate the standard deviation of the area per molecule values. Finally, I will probably want to firmly establish the basis of the large fluctuations for inner leaflet PPCH -- my suspicion is that this is simply the result of an extremely low PPCH population in this leaflet. "
     ]
    },
    {
     "cell_type": "code",
     "collapsed": false,
     "input": [
      "# ****high susceptibility to kernel crashes for this plotting code !!!! ****\n",
      "#now for sample spherical Voronoi diagrams for flu vesicle outer leaflet parsing (now working to include inner leaflet as well)\n",
      "from matplotlib.patches import Rectangle\n",
      "fig3 = plt.figure()\n",
      "\n",
      "list_voronoi_indices = [7,17,27,37] #start ~ 1 microsecond and work toward ~4 microseconds by skipping 10 indices each time (note that the index values are sensitive to the coarseness of the data parsing prior to this code)\n",
      "plot_number = 1\n",
      "\n",
      "for current_voronoi_index in list_voronoi_indices:\n",
      "    ax = fig3.add_subplot(2,4,plot_number,projection='3d')\n",
      "    index = 0\n",
      "    list_residue_names = []\n",
      "    for residue_name, subdictionary in dictionary_headgroup_data.iteritems():\n",
      "        list_Voronoi_cell_vertex_arrays = subdictionary['voronoi_cell_list_vertex_arrays'][current_voronoi_index]\n",
      "        color = color_list[index]\n",
      "        for vertex_array in list_Voronoi_cell_vertex_arrays:\n",
      "            polygon = Poly3DCollection([vertex_array/10.],alpha=1.0) #convert to nm\n",
      "            polygon.set_color(color)\n",
      "            ax.add_collection3d(polygon)\n",
      "        list_residue_names.append(residue_name)\n",
      "        index += 1\n",
      "    ax.set_title('~{time} $\\mu$s (vesicle outer leaflet)'.format(time=plot_number))\n",
      "    ax.auto_scale_xyz\n",
      "    ax.legend()\n",
      "    ax.set_xlim(-40,40);ax.set_ylim(-40,40);ax.set_zlim(-40,40);\n",
      "    ax.set_xlabel('x (nm)')\n",
      "    ax.set_ylabel('y (nm)')\n",
      "    ax.set_zlabel('z (nm)')\n",
      "    POPS_legend_object = Rectangle((0, 0), 1, 1, fc=\"black\")\n",
      "    DOPE_legend_object = Rectangle((0, 0), 1, 1, fc=\"blue\")\n",
      "    CHOL_legend_object = Rectangle((0, 0), 1, 1, fc=\"green\")\n",
      "    PPCH_legend_object = Rectangle((0, 0), 1, 1, fc=\"red\")\n",
      "    DOPX_legend_object = Rectangle((0, 0), 1, 1, fc=\"purple\")\n",
      "    ax.legend([POPS_legend_object,DOPE_legend_object,CHOL_legend_object,PPCH_legend_object,DOPX_legend_object],list_residue_names,loc=2,prop={'size':8})\n",
      "plot_number += 1\n",
      "        \n",
      "fig3.set_size_inches(24,12)"
     ],
     "language": "python",
     "metadata": {},
     "outputs": [
      {
       "ename": "NameError",
       "evalue": "name 'title' is not defined",
       "output_type": "pyerr",
       "traceback": [
        "\u001b[1;31m---------------------------------------------------------------------------\u001b[0m\n\u001b[1;31mNameError\u001b[0m                                 Traceback (most recent call last)",
        "\u001b[1;32m<ipython-input-14-6ee7c19f29d8>\u001b[0m in \u001b[0;36m<module>\u001b[1;34m()\u001b[0m\n\u001b[0;32m     19\u001b[0m         \u001b[0mlist_residue_names\u001b[0m\u001b[1;33m.\u001b[0m\u001b[0mappend\u001b[0m\u001b[1;33m(\u001b[0m\u001b[0mresidue_name\u001b[0m\u001b[1;33m)\u001b[0m\u001b[1;33m\u001b[0m\u001b[0m\n\u001b[0;32m     20\u001b[0m         \u001b[0mindex\u001b[0m \u001b[1;33m+=\u001b[0m \u001b[1;36m1\u001b[0m\u001b[1;33m\u001b[0m\u001b[0m\n\u001b[1;32m---> 21\u001b[1;33m     \u001b[0max\u001b[0m\u001b[1;33m.\u001b[0m\u001b[0mset_title\u001b[0m\u001b[1;33m(\u001b[0m\u001b[1;34m'~{time} $\\mu$s (vesicle {title} leaflet)'\u001b[0m\u001b[1;33m.\u001b[0m\u001b[0mformat\u001b[0m\u001b[1;33m(\u001b[0m\u001b[0mtime\u001b[0m\u001b[1;33m=\u001b[0m\u001b[0mplot_number\u001b[0m\u001b[1;33m,\u001b[0m\u001b[0mtitle\u001b[0m\u001b[1;33m=\u001b[0m\u001b[0mtitle\u001b[0m\u001b[1;33m)\u001b[0m\u001b[1;33m)\u001b[0m\u001b[1;33m\u001b[0m\u001b[0m\n\u001b[0m\u001b[0;32m     22\u001b[0m     \u001b[0max\u001b[0m\u001b[1;33m.\u001b[0m\u001b[0mauto_scale_xyz\u001b[0m\u001b[1;33m\u001b[0m\u001b[0m\n\u001b[0;32m     23\u001b[0m     \u001b[0max\u001b[0m\u001b[1;33m.\u001b[0m\u001b[0mlegend\u001b[0m\u001b[1;33m(\u001b[0m\u001b[1;33m)\u001b[0m\u001b[1;33m\u001b[0m\u001b[0m\n",
        "\u001b[1;31mNameError\u001b[0m: name 'title' is not defined"
       ]
      }
     ]
    },
    {
     "cell_type": "markdown",
     "metadata": {},
     "source": [
      "The Voronoi diagrams from the flu vesicle simulation (outer leaflet) look quite sensible. CHOL and PPCH dominate, as expected. The domain segregation is almost certainly the result of the inner leaflet species involuting to the outer leaflet during equilibration / hole closure. By visual inspection, it is actually rather difficult to find any differences between these diagrams from different time points. This is also not particularly surprising given the extremely high CHOL concentration and the extremely slow diffusion of the lipid species.\n",
      "\n",
      "The next logical step will probably be to extend the analysis workflow above to include the flu vesicle *inner* leaflet."
     ]
    }
   ],
   "metadata": {}
  }
 ]
}